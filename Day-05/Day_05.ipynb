{
  "nbformat": 4,
  "nbformat_minor": 0,
  "metadata": {
    "colab": {
      "name": "Day-05.ipynb",
      "provenance": []
    },
    "kernelspec": {
      "name": "python3",
      "display_name": "Python 3"
    }
  },
  "cells": [
    {
      "cell_type": "code",
      "metadata": {
        "id": "fDxYMe_CrlbW",
        "colab_type": "code",
        "colab": {
          "base_uri": "https://localhost:8080/",
          "height": 357
        },
        "outputId": "ae5a49df-1d63-4fbe-8636-8c341db53bf2"
      },
      "source": [
        "\"\"\"Question 1 : Write a program to find the first 20 non-even prime natural numbers\"\"\"\n",
        " \n",
        "count = 0\n",
        "for i in range(0, 100): \n",
        "    if i > 1: \n",
        "        for n in range(2, i//2 + 2): \n",
        "            if (i % n) == 0: \n",
        "                break\n",
        "            else: \n",
        "                if n == i//2 + 1: \n",
        "                    print(i)\n",
        "                    count += 1\n",
        "    if count == 20:\n",
        "       break"
      ],
      "execution_count": null,
      "outputs": [
        {
          "output_type": "stream",
          "text": [
            "3\n",
            "5\n",
            "7\n",
            "11\n",
            "13\n",
            "17\n",
            "19\n",
            "23\n",
            "29\n",
            "31\n",
            "37\n",
            "41\n",
            "43\n",
            "47\n",
            "53\n",
            "59\n",
            "61\n",
            "67\n",
            "71\n",
            "73\n"
          ],
          "name": "stdout"
        }
      ]
    },
    {
      "cell_type": "code",
      "metadata": {
        "id": "7BWsGReLtAP-",
        "colab_type": "code",
        "colab": {
          "base_uri": "https://localhost:8080/",
          "height": 272
        },
        "outputId": "2d83bb95-6742-4ca8-b9dc-c6f3dc754cf3"
      },
      "source": [
        "\"\"\"Question 2 : Write a program to implement 15 functions of string\"\"\"\n",
        "\n",
        "s1 = \"RiyazKhan\"\n",
        "s2 = \"   Machine Learning   \"\n",
        "print(s1.swapcase())\n",
        "print(s1.lower())\n",
        "print(s1.upper())\n",
        "print(s1.isalpha())\n",
        "print(s1.replace('a','k'))\n",
        "print(len(s1))\n",
        "print(s1.find('K'))\n",
        "print(s2.split(\" \"))\n",
        "print(s2.strip())\n",
        "print(s1.count(\"a\"))\n",
        "print(s1.startswith(\"R\"))\n",
        "print(s2.endswith(\"K\"))\n",
        "print(s1.capitalize())\n",
        "print(s1.rjust(20,'#'))\n",
        "print(s1.ljust(20,'#'))"
      ],
      "execution_count": null,
      "outputs": [
        {
          "output_type": "stream",
          "text": [
            "rIYAZkHAN\n",
            "riyazkhan\n",
            "RIYAZKHAN\n",
            "True\n",
            "RiykzKhkn\n",
            "9\n",
            "5\n",
            "['', '', '', 'Machine', 'Learning', '', '', '']\n",
            "Machine Learning\n",
            "2\n",
            "True\n",
            "False\n",
            "Riyazkhan\n",
            "###########RiyazKhan\n",
            "RiyazKhan###########\n"
          ],
          "name": "stdout"
        }
      ]
    },
    {
      "cell_type": "code",
      "metadata": {
        "id": "iM1FGY49uR4s",
        "colab_type": "code",
        "colab": {
          "base_uri": "https://localhost:8080/",
          "height": 68
        },
        "outputId": "3770d076-84cb-4249-aef6-6cbb67a6a699"
      },
      "source": [
        "\"\"\"Question 3 : Write a Python program to check if the given string is a Palindrome or Anagram or None of them. Display the message accordingly to the user.\"\"\"\n",
        "\n",
        "s1=input(\"Please Enter Word 1 = \")\n",
        "s2=input(\"Please Enter Word 2 = \")\n",
        "\n",
        "if s1==s1[::-1]:\n",
        "    print(s1,\"is a Palindrome\")\n",
        "elif sorted(s1) == sorted(s2):\n",
        "    print(s1, s2,\"is an Anagram\")\n",
        "else:\n",
        "    print(\"None of them are Palindrome or Anagram\")\n",
        "    "
      ],
      "execution_count": 17,
      "outputs": [
        {
          "output_type": "stream",
          "text": [
            "Please Enter Word 1 = silent\n",
            "Please Enter Word 2 = listen\n",
            "silent listen is an Anagram\n"
          ],
          "name": "stdout"
        }
      ]
    },
    {
      "cell_type": "code",
      "metadata": {
        "id": "dwyJlNZtzclJ",
        "colab_type": "code",
        "colab": {
          "base_uri": "https://localhost:8080/",
          "height": 51
        },
        "outputId": "b85ab324-1da7-4721-83f7-379818dcdd42"
      },
      "source": [
        "\"\"\"Question 4 : Write a Python's user defined function that removes all the additional characters from the string\n",
        "and converts it finally to lower case using built-in lower(). eg: If the string is \"Dr. Darshan Ingle\n",
        "@AI-ML Trainer\", then the output be \"drdarshaningleaimltrainer\". \"\"\"\n",
        "\n",
        "def removeSpecialChar(str):\n",
        "    output = \"\"\n",
        "    for character in str:\n",
        "        if character.isalpha():\n",
        "           output += character\n",
        "    return output.lower()\n",
        "\n",
        "inputStr = \"Riyaz.Ah.Khan@Data-Engineer\"\n",
        "print(\"Input = \", inputStr)\n",
        "print(\"Output = \", removeSpecialChar(inputStr))"
      ],
      "execution_count": 22,
      "outputs": [
        {
          "output_type": "stream",
          "text": [
            "Input =  Riyaz.Ah.Khan@Data-Engineer\n",
            "Output =  riyazahkhandataengineer\n"
          ],
          "name": "stdout"
        }
      ]
    }
  ]
}