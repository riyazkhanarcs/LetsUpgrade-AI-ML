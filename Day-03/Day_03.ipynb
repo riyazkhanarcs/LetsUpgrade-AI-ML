{
  "nbformat": 4,
  "nbformat_minor": 0,
  "metadata": {
    "colab": {
      "name": "Day-03.ipynb",
      "provenance": []
    },
    "kernelspec": {
      "name": "python3",
      "display_name": "Python 3"
    }
  },
  "cells": [
    {
      "cell_type": "code",
      "metadata": {
        "id": "5tAtpwr3hBHt",
        "colab_type": "code",
        "colab": {
          "base_uri": "https://localhost:8080/",
          "height": 34
        },
        "outputId": "ee068a42-0087-4ad5-94f6-f1e036f496b7"
      },
      "source": [
        "\"\"\"Question 1 : Write a program to subtract two complex numbers.\"\"\"\n",
        "\n",
        "x1 = complex(4,5)\n",
        "x2 = complex(2,3)\n",
        "subtract = x1 - x2\n",
        "print(\"Subtraction is : \", subtract)"
      ],
      "execution_count": null,
      "outputs": [
        {
          "output_type": "stream",
          "text": [
            "Subtraction is :  (2+2j)\n"
          ],
          "name": "stdout"
        }
      ]
    },
    {
      "cell_type": "code",
      "metadata": {
        "id": "clUXJdqNn_VO",
        "colab_type": "code",
        "colab": {
          "base_uri": "https://localhost:8080/",
          "height": 34
        },
        "outputId": "c686a9d5-a1b6-4787-e4f4-1c196af77216"
      },
      "source": [
        "\"\"\"Question 2 : Write a program to find the fourth root of a number.\"\"\"\n",
        "\n",
        "import math\n",
        "math.sqrt(math.sqrt(104976))\n"
      ],
      "execution_count": null,
      "outputs": [
        {
          "output_type": "execute_result",
          "data": {
            "text/plain": [
              "18.0"
            ]
          },
          "metadata": {
            "tags": []
          },
          "execution_count": 16
        }
      ]
    },
    {
      "cell_type": "code",
      "metadata": {
        "id": "jqnbk1Ljo-Dj",
        "colab_type": "code",
        "colab": {
          "base_uri": "https://localhost:8080/",
          "height": 34
        },
        "outputId": "d09187fa-89e4-4d7b-8507-f50e516986d2"
      },
      "source": [
        "\"\"\"Question 3 : Write a program to swap two numbers in Python with the help of a temporary variable.\"\"\"\n",
        "\n",
        "a = 10\n",
        "b = 20\n",
        "temp = a\n",
        "a = b\n",
        "b = temp\n",
        "print(\"a=\",a,\"b=\",b)"
      ],
      "execution_count": null,
      "outputs": [
        {
          "output_type": "stream",
          "text": [
            "a= 20 b= 10\n"
          ],
          "name": "stdout"
        }
      ]
    },
    {
      "cell_type": "code",
      "metadata": {
        "id": "REPRXNBLuJVz",
        "colab_type": "code",
        "colab": {
          "base_uri": "https://localhost:8080/",
          "height": 34
        },
        "outputId": "a2e0a21e-310d-4693-ff6b-c31a29b800b2"
      },
      "source": [
        "\"\"\"Question 4 : Write a program to swap two numbers in Python without using a temporary variable.\"\"\"\n",
        "\n",
        "a = 10\n",
        "b = 20\n",
        "a,b = b,a\n",
        "print(\"a=\",a,\"b=\",b)\n"
      ],
      "execution_count": null,
      "outputs": [
        {
          "output_type": "stream",
          "text": [
            "a= 20 b= 10\n"
          ],
          "name": "stdout"
        }
      ]
    },
    {
      "cell_type": "code",
      "metadata": {
        "id": "fAbJVUDzuw-Z",
        "colab_type": "code",
        "colab": {
          "base_uri": "https://localhost:8080/",
          "height": 51
        },
        "outputId": "65a53de5-6b8b-4e94-aa38-82dd119b2745"
      },
      "source": [
        "\"\"\"Question 5: Write a program to convert fahrenheit to kelvin and celsius both.\"\"\"\n",
        "\n",
        "F = 100\n",
        "K = 273.5 + ((F - 32.0) * (5.0/9.0))\n",
        "C = (F - 32) * 5/9\n",
        "print(\"Fahrenheit to Kelvin = \",round(K,2))\n",
        "print(\"Fahrenheit to Celsius = \",round(C,2))"
      ],
      "execution_count": null,
      "outputs": [
        {
          "output_type": "stream",
          "text": [
            "Fahrenheit to Kelvin =  311.28\n",
            "Fahrenheit to Celsius =  37.78\n"
          ],
          "name": "stdout"
        }
      ]
    },
    {
      "cell_type": "code",
      "metadata": {
        "id": "LW5gx4SbxXrZ",
        "colab_type": "code",
        "colab": {
          "base_uri": "https://localhost:8080/",
          "height": 170
        },
        "outputId": "2ce51304-f643-4eae-f0ad-748da15b015c"
      },
      "source": [
        "\"\"\"Question 5: Write a program to demonstrate all the available data types in Python.\"\"\"\n",
        "\n",
        "integerType = 10\n",
        "floattype = 10.0\n",
        "complexType = 1j\n",
        "stringType = 'Riyaz Khan'\n",
        "booleanType = True\n",
        "listType = [1,2,3,4,5]\n",
        "tupleType = (7718802201,'Riyaz',27, True)\n",
        "dictionaryType = {\"name\" : \"Riyaz\", \"age\" : 27}\n",
        "setType = {\"AI\", \"ML\", \"DL\"}\n",
        "\n",
        "print(integerType, type(integerType))\n",
        "print(floattype, type(floattype))\n",
        "print(complexType, type(complexType))\n",
        "print(stringType, type(stringType))\n",
        "print(booleanType, type(booleanType))\n",
        "print(listType, type(listType))\n",
        "print(tupleType, type(tupleType))\n",
        "print(dictionaryType, type(dictionaryType))\n",
        "print(setType, type(setType))"
      ],
      "execution_count": 3,
      "outputs": [
        {
          "output_type": "stream",
          "text": [
            "10 <class 'int'>\n",
            "10.0 <class 'float'>\n",
            "1j <class 'complex'>\n",
            "Riyaz Khan <class 'str'>\n",
            "True <class 'bool'>\n",
            "[1, 2, 3, 4, 5] <class 'list'>\n",
            "(7718802201, 'Riyaz', 27, True) <class 'tuple'>\n",
            "{'name': 'Riyaz', 'age': 27} <class 'dict'>\n",
            "{'ML', 'DL', 'AI'} <class 'set'>\n"
          ],
          "name": "stdout"
        }
      ]
    },
    {
      "cell_type": "markdown",
      "metadata": {
        "id": "UlMFspV9HIhb",
        "colab_type": "text"
      },
      "source": [
        "## Steps for Creating github Profile\n",
        "\n",
        "> Go to github. Sign in Using Google or create a new profile on Github\n",
        "\n",
        "#### Submit the Github Assignment\n",
        "\n",
        "\n",
        "1.   Log in to your account.\n",
        "2.   Click the new repository button in the top-right.\n",
        "3.   Click the “Create repository” button. Name the repository as LetsUpgrade AI/ML.\n",
        "4.   Upload the files/solution in the repo in day wise manner.\n",
        "5.   Copy the URL of the Folder of that day and paste in the Assignment Submission Form (Google Form)."
      ]
    }
  ]
}