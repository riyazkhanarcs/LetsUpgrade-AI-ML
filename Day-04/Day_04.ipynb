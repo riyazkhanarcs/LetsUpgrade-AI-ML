{
  "nbformat": 4,
  "nbformat_minor": 0,
  "metadata": {
    "colab": {
      "name": "Day4.ipynb",
      "provenance": [],
      "collapsed_sections": []
    },
    "kernelspec": {
      "name": "python3",
      "display_name": "Python 3"
    }
  },
  "cells": [
    {
      "cell_type": "code",
      "metadata": {
        "id": "RQYILI1o4ND2",
        "colab_type": "code",
        "colab": {
          "base_uri": "https://localhost:8080/",
          "height": 119
        },
        "outputId": "f901777f-3006-440f-a682-6b6525751aa7"
      },
      "source": [
        "\"\"\"Question 1 : Research on whether addition, subtraction, multiplication, division, floor division and modulo operations be performed on complex numbers. \n",
        "Based on your study, implement a Python program to demonstrate these operations.\"\"\"\n",
        "\n",
        "a = complex(4,3)\n",
        "b = complex(2,-5)\n",
        "print(\"First Complex number is: \", a)\n",
        "print(\"Second Complex number is: \", b)\n",
        "print(\"Addition = \", a+b)\n",
        "print(\"Subtraction = \", a-b)\n",
        "print(\"Multiplication = \", a*b)\n",
        "print(\"Division = \", a/b)\n",
        "\n",
        "#\n",
        "# Note: \n",
        "#   1. Floor and modulus operators (// and % respectively) are not allowed to be used on complex number in Python 3.x. \n",
        "#      However, these operations are defined for complex numbers in Python 2.7.x\n",
        "#   2. Complex numbers are numbers with a real and imaginary part. \n",
        "#      They're only worth noting here because neither modulo nor floor division can accept a complex number as an operand. \n",
        "#      Trying to use a complex number for floor division or modulo operations will raise a TypeError.\n"
      ],
      "execution_count": null,
      "outputs": [
        {
          "output_type": "stream",
          "text": [
            "First Complex number is:  (4+3j)\n",
            "Second Complex number is:  (2-5j)\n",
            "Addition =  (6-2j)\n",
            "Subtraction =  (2+8j)\n",
            "Multiplication =  (23-14j)\n",
            "Division =  (-0.24137931034482757+0.896551724137931j)\n"
          ],
          "name": "stdout"
        }
      ]
    },
    {
      "cell_type": "code",
      "metadata": {
        "id": "KvYoFe5pQ8Mp",
        "colab_type": "code",
        "colab": {}
      },
      "source": [
        "\"\"\"Question 2 : Research on range() functions and its parameters. \n",
        "                Create a markdown cell and write in your own words (no copy-paste from google please) what you understand about it. \n",
        "                Implement a small program of your choice on the same.\n",
        "\"\"\""
      ],
      "execution_count": null,
      "outputs": []
    },
    {
      "cell_type": "markdown",
      "metadata": {
        "id": "yaLwOr0a2avR",
        "colab_type": "text"
      },
      "source": [
        "##range() Function\n",
        "Range function range() generates the integer numbers between the given start integer to the stop integer, i.e., It returns a range object. Using for loop, we can iterate over a sequence of numbers produced by the range() function. \n",
        "\n",
        "###Syntax\n",
        "range([start, stop , step]) -> range object\n",
        "\n",
        "###Parameters\n",
        "Range function takes three parameters which are as follows:\n",
        "1. Start Value: Specifies the start value from where you want yourlist to start\n",
        "2. Stop Value: Specifies the end value from where you want yourlist to start\n",
        "3. Step Value: Specifies the difference between two consecutive numbers that you would like to want in your list. By default this value is set to 1.\n",
        "\n",
        "###Example\n",
        "Usually we use range function to iterate over the list and perform some operation or logic on it. Below exmples demonstrates how we can print all the numbers from the range of 10 numbers incremented by 2.\n"
      ]
    },
    {
      "cell_type": "code",
      "metadata": {
        "id": "KPvjdKo04IV1",
        "colab_type": "code",
        "colab": {
          "base_uri": "https://localhost:8080/",
          "height": 187
        },
        "outputId": "250511e2-2934-4175-905a-ae71526ce418"
      },
      "source": [
        "for i in range(0,20,2):\n",
        "  print(i)"
      ],
      "execution_count": null,
      "outputs": [
        {
          "output_type": "stream",
          "text": [
            "0\n",
            "2\n",
            "4\n",
            "6\n",
            "8\n",
            "10\n",
            "12\n",
            "14\n",
            "16\n",
            "18\n"
          ],
          "name": "stdout"
        }
      ]
    },
    {
      "cell_type": "code",
      "metadata": {
        "id": "Av80_eK8Ow7f",
        "colab_type": "code",
        "colab": {
          "base_uri": "https://localhost:8080/",
          "height": 34
        },
        "outputId": "d19e8591-1075-4ce8-9676-793367169ef5"
      },
      "source": [
        "\"\"\"Question 3: Consider two numbers. Perform their subtraction and if the result of subtraction is greater than 25, \n",
        "               print their multiplication result else print their division result.\n",
        "\"\"\"\n",
        "\n",
        "a = 75\n",
        "b = 25\n",
        "if a-b > 25:\n",
        "  print(a*b)\n",
        "else:\n",
        "  print(a/b)  "
      ],
      "execution_count": null,
      "outputs": [
        {
          "output_type": "stream",
          "text": [
            "1875\n"
          ],
          "name": "stdout"
        }
      ]
    },
    {
      "cell_type": "code",
      "metadata": {
        "id": "rDEAsja60nXg",
        "colab_type": "code",
        "colab": {
          "base_uri": "https://localhost:8080/",
          "height": 102
        },
        "outputId": "84c97b04-3269-4c12-bb28-f71e3884a6ef"
      },
      "source": [
        "\"\"\"Question 4: Consider a list of 10 elements of integer values. If the number in the list is divisible by 2, \n",
        "               print the result as \"square of that number minus 2\".\n",
        "\"\"\"\n",
        "\n",
        "listNumber = [1,2,3,4,5,6,7,8,9,10]\n",
        "for a in listNumber:\n",
        "  if a%2 == 0:\n",
        "   print(\"Square of \",a ,\" minus 2 = \", (a*a)-2)\n",
        "  \n"
      ],
      "execution_count": null,
      "outputs": [
        {
          "output_type": "stream",
          "text": [
            "Square of  2  minus 2 =  2\n",
            "Square of  4  minus 2 =  14\n",
            "Square of  6  minus 2 =  34\n",
            "Square of  8  minus 2 =  62\n",
            "Square of  10  minus 2 =  98\n"
          ],
          "name": "stdout"
        }
      ]
    },
    {
      "cell_type": "code",
      "metadata": {
        "id": "QmAfPcjW1hno",
        "colab_type": "code",
        "colab": {
          "base_uri": "https://localhost:8080/",
          "height": 119
        },
        "outputId": "5430a332-784f-45f9-ddd1-88a5c9710b95"
      },
      "source": [
        "\"\"\"Question 5: Consider a list of 10 elements. Print all the elements in the list which are greater than 7 when that number is divided 2.\"\"\"\n",
        "\n",
        "listNumber = [1,5,8,10,20,19,25,100,75,21]\n",
        "for a in listNumber:\n",
        "  if a/2 > 7:\n",
        "   print(a)"
      ],
      "execution_count": null,
      "outputs": [
        {
          "output_type": "stream",
          "text": [
            "20\n",
            "19\n",
            "25\n",
            "100\n",
            "75\n",
            "21\n"
          ],
          "name": "stdout"
        }
      ]
    }
  ]
}