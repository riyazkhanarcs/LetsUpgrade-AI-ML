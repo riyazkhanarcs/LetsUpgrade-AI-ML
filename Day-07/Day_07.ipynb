{
 "cells": [
  {
   "cell_type": "markdown",
   "metadata": {
    "colab_type": "text",
    "id": "is6uTLO6na6S"
   },
   "source": [
    "# Attrition Analysis Project Solution"
   ]
  },
  {
   "cell_type": "markdown",
   "metadata": {},
   "source": [
    "## Step 1) Launching"
   ]
  },
  {
   "cell_type": "code",
   "execution_count": 30,
   "metadata": {
    "colab": {
     "base_uri": "https://localhost:8080/",
     "height": 71
    },
    "colab_type": "code",
    "id": "Ga4H2caEna6U",
    "outputId": "cc17188f-6338-4df1-e7b8-8dfb03bc7dbe"
   },
   "outputs": [],
   "source": [
    "import pandas as pd\n",
    "import numpy as np\n",
    "from scipy.stats import norm, t\n",
    "import seaborn as sns\n",
    "import matplotlib.pyplot as plt"
   ]
  },
  {
   "cell_type": "code",
   "execution_count": 31,
   "metadata": {
    "colab": {},
    "colab_type": "code",
    "id": "AVVEt2O6na6b"
   },
   "outputs": [],
   "source": [
    "df = pd.read_csv('E:\\Riyaz\\LetsUpgrade-AI-ML\\Code\\general_data.csv')\n",
    "df = df.drop_duplicates() \n",
    "df.dropna(inplace = True)"
   ]
  },
  {
   "cell_type": "code",
   "execution_count": 32,
   "metadata": {
    "colab": {},
    "colab_type": "code",
    "id": "WqP9gbHxna6g"
   },
   "outputs": [],
   "source": [
    "# mapping data\n",
    "df.Attrition = df.Attrition.map({'Yes' : 1, 'No' : 0})\n",
    "df.Gender = df.Gender.map({'Male' : 1, 'Female' : 0})"
   ]
  },
  {
   "cell_type": "code",
   "execution_count": 33,
   "metadata": {
    "colab": {},
    "colab_type": "code",
    "id": "PcPXz1F7na6l"
   },
   "outputs": [],
   "source": [
    "# check colums with identical value and we drop it\n",
    "\n",
    "df.drop(['EmployeeID'], axis=1, inplace=True)\n",
    "\n",
    "for i in df:\n",
    "    if df[i].nunique() == 1:\n",
    "        df.drop([i], axis=1, inplace=True)"
   ]
  },
  {
   "cell_type": "code",
   "execution_count": 34,
   "metadata": {
    "colab": {},
    "colab_type": "code",
    "id": "Zo7_TZ2yna6q"
   },
   "outputs": [],
   "source": [
    "dfattrition = df[df.Attrition == 1].reset_index(drop=True).copy()"
   ]
  },
  {
   "cell_type": "code",
   "execution_count": 35,
   "metadata": {
    "colab": {},
    "colab_type": "code",
    "id": "FlWi3twWna6v",
    "outputId": "e96894ea-1d99-47ca-dda2-e2804b07a2eb"
   },
   "outputs": [
    {
     "data": {
      "text/html": [
       "<div>\n",
       "<style scoped>\n",
       "    .dataframe tbody tr th:only-of-type {\n",
       "        vertical-align: middle;\n",
       "    }\n",
       "\n",
       "    .dataframe tbody tr th {\n",
       "        vertical-align: top;\n",
       "    }\n",
       "\n",
       "    .dataframe thead th {\n",
       "        text-align: right;\n",
       "    }\n",
       "</style>\n",
       "<table border=\"1\" class=\"dataframe\">\n",
       "  <thead>\n",
       "    <tr style=\"text-align: right;\">\n",
       "      <th></th>\n",
       "      <th>Age</th>\n",
       "      <th>Attrition</th>\n",
       "      <th>BusinessTravel</th>\n",
       "      <th>Department</th>\n",
       "      <th>DistanceFromHome</th>\n",
       "      <th>Education</th>\n",
       "      <th>EducationField</th>\n",
       "      <th>Gender</th>\n",
       "      <th>JobLevel</th>\n",
       "      <th>JobRole</th>\n",
       "      <th>MaritalStatus</th>\n",
       "      <th>MonthlyIncome</th>\n",
       "      <th>NumCompaniesWorked</th>\n",
       "      <th>PercentSalaryHike</th>\n",
       "      <th>StockOptionLevel</th>\n",
       "      <th>TotalWorkingYears</th>\n",
       "      <th>TrainingTimesLastYear</th>\n",
       "      <th>YearsAtCompany</th>\n",
       "      <th>YearsSinceLastPromotion</th>\n",
       "      <th>YearsWithCurrManager</th>\n",
       "    </tr>\n",
       "  </thead>\n",
       "  <tbody>\n",
       "    <tr>\n",
       "      <th>0</th>\n",
       "      <td>31</td>\n",
       "      <td>1</td>\n",
       "      <td>Travel_Frequently</td>\n",
       "      <td>Research &amp; Development</td>\n",
       "      <td>10</td>\n",
       "      <td>1</td>\n",
       "      <td>Life Sciences</td>\n",
       "      <td>0</td>\n",
       "      <td>1</td>\n",
       "      <td>Research Scientist</td>\n",
       "      <td>Single</td>\n",
       "      <td>41890</td>\n",
       "      <td>0.0</td>\n",
       "      <td>23</td>\n",
       "      <td>1</td>\n",
       "      <td>6.0</td>\n",
       "      <td>3</td>\n",
       "      <td>5</td>\n",
       "      <td>1</td>\n",
       "      <td>4</td>\n",
       "    </tr>\n",
       "    <tr>\n",
       "      <th>1</th>\n",
       "      <td>28</td>\n",
       "      <td>1</td>\n",
       "      <td>Travel_Rarely</td>\n",
       "      <td>Research &amp; Development</td>\n",
       "      <td>11</td>\n",
       "      <td>2</td>\n",
       "      <td>Medical</td>\n",
       "      <td>1</td>\n",
       "      <td>2</td>\n",
       "      <td>Sales Executive</td>\n",
       "      <td>Single</td>\n",
       "      <td>58130</td>\n",
       "      <td>2.0</td>\n",
       "      <td>20</td>\n",
       "      <td>1</td>\n",
       "      <td>5.0</td>\n",
       "      <td>2</td>\n",
       "      <td>0</td>\n",
       "      <td>0</td>\n",
       "      <td>0</td>\n",
       "    </tr>\n",
       "    <tr>\n",
       "      <th>2</th>\n",
       "      <td>47</td>\n",
       "      <td>1</td>\n",
       "      <td>Non-Travel</td>\n",
       "      <td>Research &amp; Development</td>\n",
       "      <td>1</td>\n",
       "      <td>1</td>\n",
       "      <td>Medical</td>\n",
       "      <td>1</td>\n",
       "      <td>1</td>\n",
       "      <td>Research Scientist</td>\n",
       "      <td>Married</td>\n",
       "      <td>57620</td>\n",
       "      <td>1.0</td>\n",
       "      <td>11</td>\n",
       "      <td>2</td>\n",
       "      <td>10.0</td>\n",
       "      <td>4</td>\n",
       "      <td>10</td>\n",
       "      <td>9</td>\n",
       "      <td>9</td>\n",
       "    </tr>\n",
       "    <tr>\n",
       "      <th>3</th>\n",
       "      <td>44</td>\n",
       "      <td>1</td>\n",
       "      <td>Travel_Frequently</td>\n",
       "      <td>Research &amp; Development</td>\n",
       "      <td>1</td>\n",
       "      <td>2</td>\n",
       "      <td>Medical</td>\n",
       "      <td>1</td>\n",
       "      <td>2</td>\n",
       "      <td>Research Scientist</td>\n",
       "      <td>Divorced</td>\n",
       "      <td>103330</td>\n",
       "      <td>3.0</td>\n",
       "      <td>14</td>\n",
       "      <td>1</td>\n",
       "      <td>19.0</td>\n",
       "      <td>2</td>\n",
       "      <td>1</td>\n",
       "      <td>0</td>\n",
       "      <td>0</td>\n",
       "    </tr>\n",
       "    <tr>\n",
       "      <th>4</th>\n",
       "      <td>26</td>\n",
       "      <td>1</td>\n",
       "      <td>Travel_Rarely</td>\n",
       "      <td>Research &amp; Development</td>\n",
       "      <td>4</td>\n",
       "      <td>3</td>\n",
       "      <td>Medical</td>\n",
       "      <td>1</td>\n",
       "      <td>3</td>\n",
       "      <td>Research Scientist</td>\n",
       "      <td>Divorced</td>\n",
       "      <td>68540</td>\n",
       "      <td>2.0</td>\n",
       "      <td>11</td>\n",
       "      <td>0</td>\n",
       "      <td>5.0</td>\n",
       "      <td>5</td>\n",
       "      <td>3</td>\n",
       "      <td>0</td>\n",
       "      <td>2</td>\n",
       "    </tr>\n",
       "  </tbody>\n",
       "</table>\n",
       "</div>"
      ],
      "text/plain": [
       "   Age  Attrition     BusinessTravel              Department  \\\n",
       "0   31          1  Travel_Frequently  Research & Development   \n",
       "1   28          1      Travel_Rarely  Research & Development   \n",
       "2   47          1         Non-Travel  Research & Development   \n",
       "3   44          1  Travel_Frequently  Research & Development   \n",
       "4   26          1      Travel_Rarely  Research & Development   \n",
       "\n",
       "   DistanceFromHome  Education EducationField  Gender  JobLevel  \\\n",
       "0                10          1  Life Sciences       0         1   \n",
       "1                11          2        Medical       1         2   \n",
       "2                 1          1        Medical       1         1   \n",
       "3                 1          2        Medical       1         2   \n",
       "4                 4          3        Medical       1         3   \n",
       "\n",
       "              JobRole MaritalStatus  MonthlyIncome  NumCompaniesWorked  \\\n",
       "0  Research Scientist        Single          41890                 0.0   \n",
       "1     Sales Executive        Single          58130                 2.0   \n",
       "2  Research Scientist       Married          57620                 1.0   \n",
       "3  Research Scientist      Divorced         103330                 3.0   \n",
       "4  Research Scientist      Divorced          68540                 2.0   \n",
       "\n",
       "   PercentSalaryHike  StockOptionLevel  TotalWorkingYears  \\\n",
       "0                 23                 1                6.0   \n",
       "1                 20                 1                5.0   \n",
       "2                 11                 2               10.0   \n",
       "3                 14                 1               19.0   \n",
       "4                 11                 0                5.0   \n",
       "\n",
       "   TrainingTimesLastYear  YearsAtCompany  YearsSinceLastPromotion  \\\n",
       "0                      3               5                        1   \n",
       "1                      2               0                        0   \n",
       "2                      4              10                        9   \n",
       "3                      2               1                        0   \n",
       "4                      5               3                        0   \n",
       "\n",
       "   YearsWithCurrManager  \n",
       "0                     4  \n",
       "1                     0  \n",
       "2                     9  \n",
       "3                     0  \n",
       "4                     2  "
      ]
     },
     "execution_count": 35,
     "metadata": {},
     "output_type": "execute_result"
    }
   ],
   "source": [
    "dfattrition.head()"
   ]
  },
  {
   "cell_type": "markdown",
   "metadata": {
    "colab_type": "text",
    "id": "M6X8BL44na62"
   },
   "source": [
    "## Step 2) Univariate Analysis"
   ]
  },
  {
   "cell_type": "code",
   "execution_count": 36,
   "metadata": {
    "colab": {},
    "colab_type": "code",
    "id": "oUv2Su2bna63",
    "outputId": "900e41e0-83c2-41d1-9544-f9e0b242185e",
    "scrolled": false
   },
   "outputs": [
    {
     "data": {
      "text/html": [
       "<div>\n",
       "<style scoped>\n",
       "    .dataframe tbody tr th:only-of-type {\n",
       "        vertical-align: middle;\n",
       "    }\n",
       "\n",
       "    .dataframe tbody tr th {\n",
       "        vertical-align: top;\n",
       "    }\n",
       "\n",
       "    .dataframe thead th {\n",
       "        text-align: right;\n",
       "    }\n",
       "</style>\n",
       "<table border=\"1\" class=\"dataframe\">\n",
       "  <thead>\n",
       "    <tr style=\"text-align: right;\">\n",
       "      <th></th>\n",
       "      <th>Age</th>\n",
       "      <th>Attrition</th>\n",
       "      <th>DistanceFromHome</th>\n",
       "      <th>Education</th>\n",
       "      <th>Gender</th>\n",
       "      <th>JobLevel</th>\n",
       "      <th>MonthlyIncome</th>\n",
       "      <th>NumCompaniesWorked</th>\n",
       "      <th>PercentSalaryHike</th>\n",
       "      <th>StockOptionLevel</th>\n",
       "      <th>TotalWorkingYears</th>\n",
       "      <th>TrainingTimesLastYear</th>\n",
       "      <th>YearsAtCompany</th>\n",
       "      <th>YearsSinceLastPromotion</th>\n",
       "      <th>YearsWithCurrManager</th>\n",
       "    </tr>\n",
       "  </thead>\n",
       "  <tbody>\n",
       "    <tr>\n",
       "      <th>count</th>\n",
       "      <td>4382.000000</td>\n",
       "      <td>4382.000000</td>\n",
       "      <td>4382.000000</td>\n",
       "      <td>4382.000000</td>\n",
       "      <td>4382.000000</td>\n",
       "      <td>4382.000000</td>\n",
       "      <td>4382.000000</td>\n",
       "      <td>4382.000000</td>\n",
       "      <td>4382.000000</td>\n",
       "      <td>4382.000000</td>\n",
       "      <td>4382.000000</td>\n",
       "      <td>4382.000000</td>\n",
       "      <td>4382.000000</td>\n",
       "      <td>4382.000000</td>\n",
       "      <td>4382.000000</td>\n",
       "    </tr>\n",
       "    <tr>\n",
       "      <th>mean</th>\n",
       "      <td>36.933364</td>\n",
       "      <td>0.160885</td>\n",
       "      <td>9.198996</td>\n",
       "      <td>2.912369</td>\n",
       "      <td>0.599270</td>\n",
       "      <td>2.063898</td>\n",
       "      <td>65061.702419</td>\n",
       "      <td>2.693291</td>\n",
       "      <td>15.210634</td>\n",
       "      <td>0.794614</td>\n",
       "      <td>11.290278</td>\n",
       "      <td>2.798266</td>\n",
       "      <td>7.010497</td>\n",
       "      <td>2.191693</td>\n",
       "      <td>4.126198</td>\n",
       "    </tr>\n",
       "    <tr>\n",
       "      <th>std</th>\n",
       "      <td>9.137272</td>\n",
       "      <td>0.367467</td>\n",
       "      <td>8.105396</td>\n",
       "      <td>1.024728</td>\n",
       "      <td>0.490102</td>\n",
       "      <td>1.106115</td>\n",
       "      <td>47142.310175</td>\n",
       "      <td>2.497832</td>\n",
       "      <td>3.663007</td>\n",
       "      <td>0.852397</td>\n",
       "      <td>7.785717</td>\n",
       "      <td>1.289402</td>\n",
       "      <td>6.129351</td>\n",
       "      <td>3.224994</td>\n",
       "      <td>3.569674</td>\n",
       "    </tr>\n",
       "    <tr>\n",
       "      <th>min</th>\n",
       "      <td>18.000000</td>\n",
       "      <td>0.000000</td>\n",
       "      <td>1.000000</td>\n",
       "      <td>1.000000</td>\n",
       "      <td>0.000000</td>\n",
       "      <td>1.000000</td>\n",
       "      <td>10090.000000</td>\n",
       "      <td>0.000000</td>\n",
       "      <td>11.000000</td>\n",
       "      <td>0.000000</td>\n",
       "      <td>0.000000</td>\n",
       "      <td>0.000000</td>\n",
       "      <td>0.000000</td>\n",
       "      <td>0.000000</td>\n",
       "      <td>0.000000</td>\n",
       "    </tr>\n",
       "    <tr>\n",
       "      <th>25%</th>\n",
       "      <td>30.000000</td>\n",
       "      <td>0.000000</td>\n",
       "      <td>2.000000</td>\n",
       "      <td>2.000000</td>\n",
       "      <td>0.000000</td>\n",
       "      <td>1.000000</td>\n",
       "      <td>29110.000000</td>\n",
       "      <td>1.000000</td>\n",
       "      <td>12.000000</td>\n",
       "      <td>0.000000</td>\n",
       "      <td>6.000000</td>\n",
       "      <td>2.000000</td>\n",
       "      <td>3.000000</td>\n",
       "      <td>0.000000</td>\n",
       "      <td>2.000000</td>\n",
       "    </tr>\n",
       "    <tr>\n",
       "      <th>50%</th>\n",
       "      <td>36.000000</td>\n",
       "      <td>0.000000</td>\n",
       "      <td>7.000000</td>\n",
       "      <td>3.000000</td>\n",
       "      <td>1.000000</td>\n",
       "      <td>2.000000</td>\n",
       "      <td>49190.000000</td>\n",
       "      <td>2.000000</td>\n",
       "      <td>14.000000</td>\n",
       "      <td>1.000000</td>\n",
       "      <td>10.000000</td>\n",
       "      <td>3.000000</td>\n",
       "      <td>5.000000</td>\n",
       "      <td>1.000000</td>\n",
       "      <td>3.000000</td>\n",
       "    </tr>\n",
       "    <tr>\n",
       "      <th>75%</th>\n",
       "      <td>43.000000</td>\n",
       "      <td>0.000000</td>\n",
       "      <td>14.000000</td>\n",
       "      <td>4.000000</td>\n",
       "      <td>1.000000</td>\n",
       "      <td>3.000000</td>\n",
       "      <td>83790.000000</td>\n",
       "      <td>4.000000</td>\n",
       "      <td>18.000000</td>\n",
       "      <td>1.000000</td>\n",
       "      <td>15.000000</td>\n",
       "      <td>3.000000</td>\n",
       "      <td>9.000000</td>\n",
       "      <td>3.000000</td>\n",
       "      <td>7.000000</td>\n",
       "    </tr>\n",
       "    <tr>\n",
       "      <th>max</th>\n",
       "      <td>60.000000</td>\n",
       "      <td>1.000000</td>\n",
       "      <td>29.000000</td>\n",
       "      <td>5.000000</td>\n",
       "      <td>1.000000</td>\n",
       "      <td>5.000000</td>\n",
       "      <td>199990.000000</td>\n",
       "      <td>9.000000</td>\n",
       "      <td>25.000000</td>\n",
       "      <td>3.000000</td>\n",
       "      <td>40.000000</td>\n",
       "      <td>6.000000</td>\n",
       "      <td>40.000000</td>\n",
       "      <td>15.000000</td>\n",
       "      <td>17.000000</td>\n",
       "    </tr>\n",
       "  </tbody>\n",
       "</table>\n",
       "</div>"
      ],
      "text/plain": [
       "               Age    Attrition  DistanceFromHome    Education       Gender  \\\n",
       "count  4382.000000  4382.000000       4382.000000  4382.000000  4382.000000   \n",
       "mean     36.933364     0.160885          9.198996     2.912369     0.599270   \n",
       "std       9.137272     0.367467          8.105396     1.024728     0.490102   \n",
       "min      18.000000     0.000000          1.000000     1.000000     0.000000   \n",
       "25%      30.000000     0.000000          2.000000     2.000000     0.000000   \n",
       "50%      36.000000     0.000000          7.000000     3.000000     1.000000   \n",
       "75%      43.000000     0.000000         14.000000     4.000000     1.000000   \n",
       "max      60.000000     1.000000         29.000000     5.000000     1.000000   \n",
       "\n",
       "          JobLevel  MonthlyIncome  NumCompaniesWorked  PercentSalaryHike  \\\n",
       "count  4382.000000    4382.000000         4382.000000        4382.000000   \n",
       "mean      2.063898   65061.702419            2.693291          15.210634   \n",
       "std       1.106115   47142.310175            2.497832           3.663007   \n",
       "min       1.000000   10090.000000            0.000000          11.000000   \n",
       "25%       1.000000   29110.000000            1.000000          12.000000   \n",
       "50%       2.000000   49190.000000            2.000000          14.000000   \n",
       "75%       3.000000   83790.000000            4.000000          18.000000   \n",
       "max       5.000000  199990.000000            9.000000          25.000000   \n",
       "\n",
       "       StockOptionLevel  TotalWorkingYears  TrainingTimesLastYear  \\\n",
       "count       4382.000000        4382.000000            4382.000000   \n",
       "mean           0.794614          11.290278               2.798266   \n",
       "std            0.852397           7.785717               1.289402   \n",
       "min            0.000000           0.000000               0.000000   \n",
       "25%            0.000000           6.000000               2.000000   \n",
       "50%            1.000000          10.000000               3.000000   \n",
       "75%            1.000000          15.000000               3.000000   \n",
       "max            3.000000          40.000000               6.000000   \n",
       "\n",
       "       YearsAtCompany  YearsSinceLastPromotion  YearsWithCurrManager  \n",
       "count     4382.000000              4382.000000           4382.000000  \n",
       "mean         7.010497                 2.191693              4.126198  \n",
       "std          6.129351                 3.224994              3.569674  \n",
       "min          0.000000                 0.000000              0.000000  \n",
       "25%          3.000000                 0.000000              2.000000  \n",
       "50%          5.000000                 1.000000              3.000000  \n",
       "75%          9.000000                 3.000000              7.000000  \n",
       "max         40.000000                15.000000             17.000000  "
      ]
     },
     "execution_count": 36,
     "metadata": {},
     "output_type": "execute_result"
    }
   ],
   "source": [
    "describe = df.describe()\n",
    "describe"
   ]
  },
  {
   "cell_type": "code",
   "execution_count": 37,
   "metadata": {
    "colab": {},
    "colab_type": "code",
    "id": "xEx_nexUna69",
    "outputId": "d9c13d29-6d97-4daa-fd6c-b36836240cc4"
   },
   "outputs": [
    {
     "data": {
      "text/html": [
       "<div>\n",
       "<style scoped>\n",
       "    .dataframe tbody tr th:only-of-type {\n",
       "        vertical-align: middle;\n",
       "    }\n",
       "\n",
       "    .dataframe tbody tr th {\n",
       "        vertical-align: top;\n",
       "    }\n",
       "\n",
       "    .dataframe thead th {\n",
       "        text-align: right;\n",
       "    }\n",
       "</style>\n",
       "<table border=\"1\" class=\"dataframe\">\n",
       "  <thead>\n",
       "    <tr style=\"text-align: right;\">\n",
       "      <th></th>\n",
       "      <th>Age</th>\n",
       "      <th>Attrition</th>\n",
       "      <th>DistanceFromHome</th>\n",
       "      <th>Education</th>\n",
       "      <th>Gender</th>\n",
       "      <th>JobLevel</th>\n",
       "      <th>MonthlyIncome</th>\n",
       "      <th>NumCompaniesWorked</th>\n",
       "      <th>PercentSalaryHike</th>\n",
       "      <th>StockOptionLevel</th>\n",
       "      <th>TotalWorkingYears</th>\n",
       "      <th>TrainingTimesLastYear</th>\n",
       "      <th>YearsAtCompany</th>\n",
       "      <th>YearsSinceLastPromotion</th>\n",
       "      <th>YearsWithCurrManager</th>\n",
       "    </tr>\n",
       "  </thead>\n",
       "  <tbody>\n",
       "    <tr>\n",
       "      <th>skew</th>\n",
       "      <td>0.413048</td>\n",
       "      <td>1.846529</td>\n",
       "      <td>0.955517</td>\n",
       "      <td>-0.288977</td>\n",
       "      <td>-0.405283</td>\n",
       "      <td>1.021797</td>\n",
       "      <td>1.367457</td>\n",
       "      <td>1.029174</td>\n",
       "      <td>0.81951</td>\n",
       "      <td>0.967263</td>\n",
       "      <td>1.115419</td>\n",
       "      <td>0.551818</td>\n",
       "      <td>1.764619</td>\n",
       "      <td>1.980992</td>\n",
       "      <td>0.834277</td>\n",
       "    </tr>\n",
       "  </tbody>\n",
       "</table>\n",
       "</div>"
      ],
      "text/plain": [
       "           Age  Attrition  DistanceFromHome  Education    Gender  JobLevel  \\\n",
       "skew  0.413048   1.846529          0.955517  -0.288977 -0.405283  1.021797   \n",
       "\n",
       "      MonthlyIncome  NumCompaniesWorked  PercentSalaryHike  StockOptionLevel  \\\n",
       "skew       1.367457            1.029174            0.81951          0.967263   \n",
       "\n",
       "      TotalWorkingYears  TrainingTimesLastYear  YearsAtCompany  \\\n",
       "skew           1.115419               0.551818        1.764619   \n",
       "\n",
       "      YearsSinceLastPromotion  YearsWithCurrManager  \n",
       "skew                 1.980992              0.834277  "
      ]
     },
     "execution_count": 37,
     "metadata": {},
     "output_type": "execute_result"
    }
   ],
   "source": [
    "skew = pd.DataFrame(df.skew(), columns=['skew']).T\n",
    "skew"
   ]
  },
  {
   "cell_type": "code",
   "execution_count": 38,
   "metadata": {
    "colab": {},
    "colab_type": "code",
    "id": "o2FxUOL4na7H",
    "outputId": "fc2b98c0-0663-4ec3-ae08-d9e7bc16e016"
   },
   "outputs": [
    {
     "data": {
      "text/html": [
       "<div>\n",
       "<style scoped>\n",
       "    .dataframe tbody tr th:only-of-type {\n",
       "        vertical-align: middle;\n",
       "    }\n",
       "\n",
       "    .dataframe tbody tr th {\n",
       "        vertical-align: top;\n",
       "    }\n",
       "\n",
       "    .dataframe thead th {\n",
       "        text-align: right;\n",
       "    }\n",
       "</style>\n",
       "<table border=\"1\" class=\"dataframe\">\n",
       "  <thead>\n",
       "    <tr style=\"text-align: right;\">\n",
       "      <th></th>\n",
       "      <th>Age</th>\n",
       "      <th>Attrition</th>\n",
       "      <th>DistanceFromHome</th>\n",
       "      <th>Education</th>\n",
       "      <th>Gender</th>\n",
       "      <th>JobLevel</th>\n",
       "      <th>MonthlyIncome</th>\n",
       "      <th>NumCompaniesWorked</th>\n",
       "      <th>PercentSalaryHike</th>\n",
       "      <th>StockOptionLevel</th>\n",
       "      <th>TotalWorkingYears</th>\n",
       "      <th>TrainingTimesLastYear</th>\n",
       "      <th>YearsAtCompany</th>\n",
       "      <th>YearsSinceLastPromotion</th>\n",
       "      <th>YearsWithCurrManager</th>\n",
       "    </tr>\n",
       "  </thead>\n",
       "  <tbody>\n",
       "    <tr>\n",
       "      <th>variance</th>\n",
       "      <td>83.489738</td>\n",
       "      <td>0.135032</td>\n",
       "      <td>65.697438</td>\n",
       "      <td>1.050068</td>\n",
       "      <td>0.2402</td>\n",
       "      <td>1.22349</td>\n",
       "      <td>2.222397e+09</td>\n",
       "      <td>6.239165</td>\n",
       "      <td>13.417618</td>\n",
       "      <td>0.726581</td>\n",
       "      <td>60.617385</td>\n",
       "      <td>1.662558</td>\n",
       "      <td>37.568938</td>\n",
       "      <td>10.400588</td>\n",
       "      <td>12.742573</td>\n",
       "    </tr>\n",
       "  </tbody>\n",
       "</table>\n",
       "</div>"
      ],
      "text/plain": [
       "                Age  Attrition  DistanceFromHome  Education  Gender  JobLevel  \\\n",
       "variance  83.489738   0.135032         65.697438   1.050068  0.2402   1.22349   \n",
       "\n",
       "          MonthlyIncome  NumCompaniesWorked  PercentSalaryHike  \\\n",
       "variance   2.222397e+09            6.239165          13.417618   \n",
       "\n",
       "          StockOptionLevel  TotalWorkingYears  TrainingTimesLastYear  \\\n",
       "variance          0.726581          60.617385               1.662558   \n",
       "\n",
       "          YearsAtCompany  YearsSinceLastPromotion  YearsWithCurrManager  \n",
       "variance       37.568938                10.400588             12.742573  "
      ]
     },
     "execution_count": 38,
     "metadata": {},
     "output_type": "execute_result"
    }
   ],
   "source": [
    "variance = pd.DataFrame(df.var(), columns=['variance']).T\n",
    "variance"
   ]
  },
  {
   "cell_type": "code",
   "execution_count": 39,
   "metadata": {
    "colab": {},
    "colab_type": "code",
    "id": "JfnZKuCkna7M",
    "outputId": "475aa52b-86e4-422f-8d5e-974906b0caf1"
   },
   "outputs": [
    {
     "data": {
      "text/html": [
       "<div>\n",
       "<style scoped>\n",
       "    .dataframe tbody tr th:only-of-type {\n",
       "        vertical-align: middle;\n",
       "    }\n",
       "\n",
       "    .dataframe tbody tr th {\n",
       "        vertical-align: top;\n",
       "    }\n",
       "\n",
       "    .dataframe thead th {\n",
       "        text-align: right;\n",
       "    }\n",
       "</style>\n",
       "<table border=\"1\" class=\"dataframe\">\n",
       "  <thead>\n",
       "    <tr style=\"text-align: right;\">\n",
       "      <th></th>\n",
       "      <th>Age</th>\n",
       "      <th>Attrition</th>\n",
       "      <th>DistanceFromHome</th>\n",
       "      <th>Education</th>\n",
       "      <th>Gender</th>\n",
       "      <th>JobLevel</th>\n",
       "      <th>MonthlyIncome</th>\n",
       "      <th>NumCompaniesWorked</th>\n",
       "      <th>PercentSalaryHike</th>\n",
       "      <th>StockOptionLevel</th>\n",
       "      <th>TotalWorkingYears</th>\n",
       "      <th>TrainingTimesLastYear</th>\n",
       "      <th>YearsAtCompany</th>\n",
       "      <th>YearsSinceLastPromotion</th>\n",
       "      <th>YearsWithCurrManager</th>\n",
       "    </tr>\n",
       "  </thead>\n",
       "  <tbody>\n",
       "    <tr>\n",
       "      <th>kurt</th>\n",
       "      <td>-0.409517</td>\n",
       "      <td>1.410313</td>\n",
       "      <td>-0.230691</td>\n",
       "      <td>-0.565008</td>\n",
       "      <td>-1.836584</td>\n",
       "      <td>0.388189</td>\n",
       "      <td>0.990836</td>\n",
       "      <td>0.014307</td>\n",
       "      <td>-0.306951</td>\n",
       "      <td>0.356755</td>\n",
       "      <td>0.909316</td>\n",
       "      <td>0.494215</td>\n",
       "      <td>3.930726</td>\n",
       "      <td>3.592162</td>\n",
       "      <td>0.170703</td>\n",
       "    </tr>\n",
       "  </tbody>\n",
       "</table>\n",
       "</div>"
      ],
      "text/plain": [
       "           Age  Attrition  DistanceFromHome  Education    Gender  JobLevel  \\\n",
       "kurt -0.409517   1.410313         -0.230691  -0.565008 -1.836584  0.388189   \n",
       "\n",
       "      MonthlyIncome  NumCompaniesWorked  PercentSalaryHike  StockOptionLevel  \\\n",
       "kurt       0.990836            0.014307          -0.306951          0.356755   \n",
       "\n",
       "      TotalWorkingYears  TrainingTimesLastYear  YearsAtCompany  \\\n",
       "kurt           0.909316               0.494215        3.930726   \n",
       "\n",
       "      YearsSinceLastPromotion  YearsWithCurrManager  \n",
       "kurt                 3.592162              0.170703  "
      ]
     },
     "execution_count": 39,
     "metadata": {},
     "output_type": "execute_result"
    }
   ],
   "source": [
    "kurt = pd.DataFrame(df.kurt(), columns=['kurt']).T\n",
    "kurt"
   ]
  },
  {
   "cell_type": "code",
   "execution_count": 40,
   "metadata": {
    "colab": {},
    "colab_type": "code",
    "id": "a8G-OQCyna7Q",
    "outputId": "b23eefeb-a6c4-42bf-db72-f57b2b8d0622",
    "scrolled": false
   },
   "outputs": [
    {
     "data": {
      "text/html": [
       "<div>\n",
       "<style scoped>\n",
       "    .dataframe tbody tr th:only-of-type {\n",
       "        vertical-align: middle;\n",
       "    }\n",
       "\n",
       "    .dataframe tbody tr th {\n",
       "        vertical-align: top;\n",
       "    }\n",
       "\n",
       "    .dataframe thead th {\n",
       "        text-align: right;\n",
       "    }\n",
       "</style>\n",
       "<table border=\"1\" class=\"dataframe\">\n",
       "  <thead>\n",
       "    <tr style=\"text-align: right;\">\n",
       "      <th></th>\n",
       "      <th>Age</th>\n",
       "      <th>Attrition</th>\n",
       "      <th>DistanceFromHome</th>\n",
       "      <th>Education</th>\n",
       "      <th>Gender</th>\n",
       "      <th>JobLevel</th>\n",
       "      <th>MonthlyIncome</th>\n",
       "      <th>NumCompaniesWorked</th>\n",
       "      <th>PercentSalaryHike</th>\n",
       "      <th>StockOptionLevel</th>\n",
       "      <th>TotalWorkingYears</th>\n",
       "      <th>TrainingTimesLastYear</th>\n",
       "      <th>YearsAtCompany</th>\n",
       "      <th>YearsSinceLastPromotion</th>\n",
       "      <th>YearsWithCurrManager</th>\n",
       "    </tr>\n",
       "  </thead>\n",
       "  <tbody>\n",
       "    <tr>\n",
       "      <th>count</th>\n",
       "      <td>4382.000000</td>\n",
       "      <td>4382.000000</td>\n",
       "      <td>4382.000000</td>\n",
       "      <td>4382.000000</td>\n",
       "      <td>4382.000000</td>\n",
       "      <td>4382.000000</td>\n",
       "      <td>4.382000e+03</td>\n",
       "      <td>4382.000000</td>\n",
       "      <td>4382.000000</td>\n",
       "      <td>4382.000000</td>\n",
       "      <td>4382.000000</td>\n",
       "      <td>4382.000000</td>\n",
       "      <td>4382.000000</td>\n",
       "      <td>4382.000000</td>\n",
       "      <td>4382.000000</td>\n",
       "    </tr>\n",
       "    <tr>\n",
       "      <th>mean</th>\n",
       "      <td>36.933364</td>\n",
       "      <td>0.160885</td>\n",
       "      <td>9.198996</td>\n",
       "      <td>2.912369</td>\n",
       "      <td>0.599270</td>\n",
       "      <td>2.063898</td>\n",
       "      <td>6.506170e+04</td>\n",
       "      <td>2.693291</td>\n",
       "      <td>15.210634</td>\n",
       "      <td>0.794614</td>\n",
       "      <td>11.290278</td>\n",
       "      <td>2.798266</td>\n",
       "      <td>7.010497</td>\n",
       "      <td>2.191693</td>\n",
       "      <td>4.126198</td>\n",
       "    </tr>\n",
       "    <tr>\n",
       "      <th>std</th>\n",
       "      <td>9.137272</td>\n",
       "      <td>0.367467</td>\n",
       "      <td>8.105396</td>\n",
       "      <td>1.024728</td>\n",
       "      <td>0.490102</td>\n",
       "      <td>1.106115</td>\n",
       "      <td>4.714231e+04</td>\n",
       "      <td>2.497832</td>\n",
       "      <td>3.663007</td>\n",
       "      <td>0.852397</td>\n",
       "      <td>7.785717</td>\n",
       "      <td>1.289402</td>\n",
       "      <td>6.129351</td>\n",
       "      <td>3.224994</td>\n",
       "      <td>3.569674</td>\n",
       "    </tr>\n",
       "    <tr>\n",
       "      <th>min</th>\n",
       "      <td>18.000000</td>\n",
       "      <td>0.000000</td>\n",
       "      <td>1.000000</td>\n",
       "      <td>1.000000</td>\n",
       "      <td>0.000000</td>\n",
       "      <td>1.000000</td>\n",
       "      <td>1.009000e+04</td>\n",
       "      <td>0.000000</td>\n",
       "      <td>11.000000</td>\n",
       "      <td>0.000000</td>\n",
       "      <td>0.000000</td>\n",
       "      <td>0.000000</td>\n",
       "      <td>0.000000</td>\n",
       "      <td>0.000000</td>\n",
       "      <td>0.000000</td>\n",
       "    </tr>\n",
       "    <tr>\n",
       "      <th>25%</th>\n",
       "      <td>30.000000</td>\n",
       "      <td>0.000000</td>\n",
       "      <td>2.000000</td>\n",
       "      <td>2.000000</td>\n",
       "      <td>0.000000</td>\n",
       "      <td>1.000000</td>\n",
       "      <td>2.911000e+04</td>\n",
       "      <td>1.000000</td>\n",
       "      <td>12.000000</td>\n",
       "      <td>0.000000</td>\n",
       "      <td>6.000000</td>\n",
       "      <td>2.000000</td>\n",
       "      <td>3.000000</td>\n",
       "      <td>0.000000</td>\n",
       "      <td>2.000000</td>\n",
       "    </tr>\n",
       "    <tr>\n",
       "      <th>50%</th>\n",
       "      <td>36.000000</td>\n",
       "      <td>0.000000</td>\n",
       "      <td>7.000000</td>\n",
       "      <td>3.000000</td>\n",
       "      <td>1.000000</td>\n",
       "      <td>2.000000</td>\n",
       "      <td>4.919000e+04</td>\n",
       "      <td>2.000000</td>\n",
       "      <td>14.000000</td>\n",
       "      <td>1.000000</td>\n",
       "      <td>10.000000</td>\n",
       "      <td>3.000000</td>\n",
       "      <td>5.000000</td>\n",
       "      <td>1.000000</td>\n",
       "      <td>3.000000</td>\n",
       "    </tr>\n",
       "    <tr>\n",
       "      <th>75%</th>\n",
       "      <td>43.000000</td>\n",
       "      <td>0.000000</td>\n",
       "      <td>14.000000</td>\n",
       "      <td>4.000000</td>\n",
       "      <td>1.000000</td>\n",
       "      <td>3.000000</td>\n",
       "      <td>8.379000e+04</td>\n",
       "      <td>4.000000</td>\n",
       "      <td>18.000000</td>\n",
       "      <td>1.000000</td>\n",
       "      <td>15.000000</td>\n",
       "      <td>3.000000</td>\n",
       "      <td>9.000000</td>\n",
       "      <td>3.000000</td>\n",
       "      <td>7.000000</td>\n",
       "    </tr>\n",
       "    <tr>\n",
       "      <th>max</th>\n",
       "      <td>60.000000</td>\n",
       "      <td>1.000000</td>\n",
       "      <td>29.000000</td>\n",
       "      <td>5.000000</td>\n",
       "      <td>1.000000</td>\n",
       "      <td>5.000000</td>\n",
       "      <td>1.999900e+05</td>\n",
       "      <td>9.000000</td>\n",
       "      <td>25.000000</td>\n",
       "      <td>3.000000</td>\n",
       "      <td>40.000000</td>\n",
       "      <td>6.000000</td>\n",
       "      <td>40.000000</td>\n",
       "      <td>15.000000</td>\n",
       "      <td>17.000000</td>\n",
       "    </tr>\n",
       "    <tr>\n",
       "      <th>mode</th>\n",
       "      <td>35.000000</td>\n",
       "      <td>0.000000</td>\n",
       "      <td>2.000000</td>\n",
       "      <td>3.000000</td>\n",
       "      <td>1.000000</td>\n",
       "      <td>1.000000</td>\n",
       "      <td>2.342000e+04</td>\n",
       "      <td>1.000000</td>\n",
       "      <td>11.000000</td>\n",
       "      <td>0.000000</td>\n",
       "      <td>10.000000</td>\n",
       "      <td>2.000000</td>\n",
       "      <td>5.000000</td>\n",
       "      <td>0.000000</td>\n",
       "      <td>2.000000</td>\n",
       "    </tr>\n",
       "    <tr>\n",
       "      <th>skew</th>\n",
       "      <td>0.413048</td>\n",
       "      <td>1.846529</td>\n",
       "      <td>0.955517</td>\n",
       "      <td>-0.288977</td>\n",
       "      <td>-0.405283</td>\n",
       "      <td>1.021797</td>\n",
       "      <td>1.367457e+00</td>\n",
       "      <td>1.029174</td>\n",
       "      <td>0.819510</td>\n",
       "      <td>0.967263</td>\n",
       "      <td>1.115419</td>\n",
       "      <td>0.551818</td>\n",
       "      <td>1.764619</td>\n",
       "      <td>1.980992</td>\n",
       "      <td>0.834277</td>\n",
       "    </tr>\n",
       "    <tr>\n",
       "      <th>variance</th>\n",
       "      <td>83.489738</td>\n",
       "      <td>0.135032</td>\n",
       "      <td>65.697438</td>\n",
       "      <td>1.050068</td>\n",
       "      <td>0.240200</td>\n",
       "      <td>1.223490</td>\n",
       "      <td>2.222397e+09</td>\n",
       "      <td>6.239165</td>\n",
       "      <td>13.417618</td>\n",
       "      <td>0.726581</td>\n",
       "      <td>60.617385</td>\n",
       "      <td>1.662558</td>\n",
       "      <td>37.568938</td>\n",
       "      <td>10.400588</td>\n",
       "      <td>12.742573</td>\n",
       "    </tr>\n",
       "    <tr>\n",
       "      <th>kurt</th>\n",
       "      <td>-0.409517</td>\n",
       "      <td>1.410313</td>\n",
       "      <td>-0.230691</td>\n",
       "      <td>-0.565008</td>\n",
       "      <td>-1.836584</td>\n",
       "      <td>0.388189</td>\n",
       "      <td>9.908356e-01</td>\n",
       "      <td>0.014307</td>\n",
       "      <td>-0.306951</td>\n",
       "      <td>0.356755</td>\n",
       "      <td>0.909316</td>\n",
       "      <td>0.494215</td>\n",
       "      <td>3.930726</td>\n",
       "      <td>3.592162</td>\n",
       "      <td>0.170703</td>\n",
       "    </tr>\n",
       "  </tbody>\n",
       "</table>\n",
       "</div>"
      ],
      "text/plain": [
       "                  Age    Attrition  DistanceFromHome    Education  \\\n",
       "count     4382.000000  4382.000000       4382.000000  4382.000000   \n",
       "mean        36.933364     0.160885          9.198996     2.912369   \n",
       "std          9.137272     0.367467          8.105396     1.024728   \n",
       "min         18.000000     0.000000          1.000000     1.000000   \n",
       "25%         30.000000     0.000000          2.000000     2.000000   \n",
       "50%         36.000000     0.000000          7.000000     3.000000   \n",
       "75%         43.000000     0.000000         14.000000     4.000000   \n",
       "max         60.000000     1.000000         29.000000     5.000000   \n",
       "mode        35.000000     0.000000          2.000000     3.000000   \n",
       "skew         0.413048     1.846529          0.955517    -0.288977   \n",
       "variance    83.489738     0.135032         65.697438     1.050068   \n",
       "kurt        -0.409517     1.410313         -0.230691    -0.565008   \n",
       "\n",
       "               Gender     JobLevel  MonthlyIncome  NumCompaniesWorked  \\\n",
       "count     4382.000000  4382.000000   4.382000e+03         4382.000000   \n",
       "mean         0.599270     2.063898   6.506170e+04            2.693291   \n",
       "std          0.490102     1.106115   4.714231e+04            2.497832   \n",
       "min          0.000000     1.000000   1.009000e+04            0.000000   \n",
       "25%          0.000000     1.000000   2.911000e+04            1.000000   \n",
       "50%          1.000000     2.000000   4.919000e+04            2.000000   \n",
       "75%          1.000000     3.000000   8.379000e+04            4.000000   \n",
       "max          1.000000     5.000000   1.999900e+05            9.000000   \n",
       "mode         1.000000     1.000000   2.342000e+04            1.000000   \n",
       "skew        -0.405283     1.021797   1.367457e+00            1.029174   \n",
       "variance     0.240200     1.223490   2.222397e+09            6.239165   \n",
       "kurt        -1.836584     0.388189   9.908356e-01            0.014307   \n",
       "\n",
       "          PercentSalaryHike  StockOptionLevel  TotalWorkingYears  \\\n",
       "count           4382.000000       4382.000000        4382.000000   \n",
       "mean              15.210634          0.794614          11.290278   \n",
       "std                3.663007          0.852397           7.785717   \n",
       "min               11.000000          0.000000           0.000000   \n",
       "25%               12.000000          0.000000           6.000000   \n",
       "50%               14.000000          1.000000          10.000000   \n",
       "75%               18.000000          1.000000          15.000000   \n",
       "max               25.000000          3.000000          40.000000   \n",
       "mode              11.000000          0.000000          10.000000   \n",
       "skew               0.819510          0.967263           1.115419   \n",
       "variance          13.417618          0.726581          60.617385   \n",
       "kurt              -0.306951          0.356755           0.909316   \n",
       "\n",
       "          TrainingTimesLastYear  YearsAtCompany  YearsSinceLastPromotion  \\\n",
       "count               4382.000000     4382.000000              4382.000000   \n",
       "mean                   2.798266        7.010497                 2.191693   \n",
       "std                    1.289402        6.129351                 3.224994   \n",
       "min                    0.000000        0.000000                 0.000000   \n",
       "25%                    2.000000        3.000000                 0.000000   \n",
       "50%                    3.000000        5.000000                 1.000000   \n",
       "75%                    3.000000        9.000000                 3.000000   \n",
       "max                    6.000000       40.000000                15.000000   \n",
       "mode                   2.000000        5.000000                 0.000000   \n",
       "skew                   0.551818        1.764619                 1.980992   \n",
       "variance               1.662558       37.568938                10.400588   \n",
       "kurt                   0.494215        3.930726                 3.592162   \n",
       "\n",
       "          YearsWithCurrManager  \n",
       "count              4382.000000  \n",
       "mean                  4.126198  \n",
       "std                   3.569674  \n",
       "min                   0.000000  \n",
       "25%                   2.000000  \n",
       "50%                   3.000000  \n",
       "75%                   7.000000  \n",
       "max                  17.000000  \n",
       "mode                  2.000000  \n",
       "skew                  0.834277  \n",
       "variance             12.742573  \n",
       "kurt                  0.170703  "
      ]
     },
     "execution_count": 40,
     "metadata": {},
     "output_type": "execute_result"
    }
   ],
   "source": [
    "mode = df.mode().loc[:, list(describe.columns)]\n",
    "mode.rename(index={0: 'mode'}, inplace=True)\n",
    "\n",
    "join_all = pd.concat([describe, mode, skew, variance, kurt])\n",
    "join_all"
   ]
  },
  {
   "cell_type": "markdown",
   "metadata": {
    "colab_type": "text",
    "id": "NVSquLZUna7W"
   },
   "source": [
    "From table above, we can conclude that :<br>\n",
    "1. All the features have positive skewness (since mean > median), except Education has negative skewness,\n",
    "   but age seems like normal dist since the difference between mean and median is not too far.\n",
    "   \n",
    "2. Age, Distance from home, education, percentsalaryhike have minus Kurt so it has Platykurtic, NumComWorked near to zero so it can Mesokuartic, and the other feature have Laptokuartic.\n"
   ]
  },
  {
   "cell_type": "markdown",
   "metadata": {
    "colab_type": "text",
    "id": "Uxkgo5rpna7X"
   },
   "source": [
    "## Step 3) Checking the Outliers"
   ]
  },
  {
   "cell_type": "code",
   "execution_count": 41,
   "metadata": {
    "colab": {},
    "colab_type": "code",
    "id": "PNreGB7Mna7Y",
    "outputId": "dc9f5742-090a-46c5-a210-e430ad5237e0",
    "scrolled": true
   },
   "outputs": [
    {
     "name": "stdout",
     "output_type": "stream",
     "text": [
      "Age\n"
     ]
    },
    {
     "data": {
      "image/png": "[encoded data removed]",
      "text/plain": [
       "<Figure size 432x288 with 1 Axes>"
      ]
     },
     "metadata": {
      "needs_background": "light"
     },
     "output_type": "display_data"
    },
    {
     "name": "stdout",
     "output_type": "stream",
     "text": [
      "Attrition\n"
     ]
    },
    {
     "data": {
      "image/png": "[encoded data removed]",
      "text/plain": [
       "<Figure size 432x288 with 1 Axes>"
      ]
     },
     "metadata": {
      "needs_background": "light"
     },
     "output_type": "display_data"
    },
    {
     "name": "stdout",
     "output_type": "stream",
     "text": [
      "DistanceFromHome\n"
     ]
    },
    {
     "data": {
      "image/png": "[encoded data removed]",
      "text/plain": [
       "<Figure size 432x288 with 1 Axes>"
      ]
     },
     "metadata": {
      "needs_background": "light"
     },
     "output_type": "display_data"
    },
    {
     "name": "stdout",
     "output_type": "stream",
     "text": [
      "Education\n"
     ]
    },
    {
     "data": {
      "image/png": "[encoded data removed]",
      "text/plain": [
       "<Figure size 432x288 with 1 Axes>"
      ]
     },
     "metadata": {
      "needs_background": "light"
     },
     "output_type": "display_data"
    },
    {
     "name": "stdout",
     "output_type": "stream",
     "text": [
      "Gender\n"
     ]
    },
    {
     "data": {
      "image/png": "[encoded data removed]",
      "text/plain": [
       "<Figure size 432x288 with 1 Axes>"
      ]
     },
     "metadata": {
      "needs_background": "light"
     },
     "output_type": "display_data"
    },
    {
     "name": "stdout",
     "output_type": "stream",
     "text": [
      "JobLevel\n"
     ]
    },
    {
     "data": {
      "image/png": "[encoded data removed]",
      "text/plain": [
       "<Figure size 432x288 with 1 Axes>"
      ]
     },
     "metadata": {
      "needs_background": "light"
     },
     "output_type": "display_data"
    },
    {
     "name": "stdout",
     "output_type": "stream",
     "text": [
      "MonthlyIncome\n"
     ]
    },
    {
     "data": {
      "image/png": "[encoded data removed]",
      "text/plain": [
       "<Figure size 432x288 with 1 Axes>"
      ]
     },
     "metadata": {
      "needs_background": "light"
     },
     "output_type": "display_data"
    },
    {
     "name": "stdout",
     "output_type": "stream",
     "text": [
      "NumCompaniesWorked\n"
     ]
    },
    {
     "data": {
      "image/png": "[encoded data removed]",
      "text/plain": [
       "<Figure size 432x288 with 1 Axes>"
      ]
     },
     "metadata": {
      "needs_background": "light"
     },
     "output_type": "display_data"
    },
    {
     "name": "stdout",
     "output_type": "stream",
     "text": [
      "PercentSalaryHike\n"
     ]
    },
    {
     "data": {
      "image/png": "[encoded data removed]",
      "text/plain": [
       "<Figure size 432x288 with 1 Axes>"
      ]
     },
     "metadata": {
      "needs_background": "light"
     },
     "output_type": "display_data"
    },
    {
     "name": "stdout",
     "output_type": "stream",
     "text": [
      "StockOptionLevel\n"
     ]
    },
    {
     "data": {
      "image/png": "[encoded data removed]",
      "text/plain": [
       "<Figure size 432x288 with 1 Axes>"
      ]
     },
     "metadata": {
      "needs_background": "light"
     },
     "output_type": "display_data"
    },
    {
     "name": "stdout",
     "output_type": "stream",
     "text": [
      "TotalWorkingYears\n"
     ]
    },
    {
     "data": {
      "image/png": "[encoded data removed]",
      "text/plain": [
       "<Figure size 432x288 with 1 Axes>"
      ]
     },
     "metadata": {
      "needs_background": "light"
     },
     "output_type": "display_data"
    },
    {
     "name": "stdout",
     "output_type": "stream",
     "text": [
      "TrainingTimesLastYear\n"
     ]
    },
    {
     "data": {
      "image/png": "[encoded data removed]",
      "text/plain": [
       "<Figure size 432x288 with 1 Axes>"
      ]
     },
     "metadata": {
      "needs_background": "light"
     },
     "output_type": "display_data"
    },
    {
     "name": "stdout",
     "output_type": "stream",
     "text": [
      "YearsAtCompany\n"
     ]
    },
    {
     "data": {
      "image/png": "[encoded data removed]",
      "text/plain": [
       "<Figure size 432x288 with 1 Axes>"
      ]
     },
     "metadata": {
      "needs_background": "light"
     },
     "output_type": "display_data"
    },
    {
     "name": "stdout",
     "output_type": "stream",
     "text": [
      "YearsSinceLastPromotion\n"
     ]
    },
    {
     "data": {
      "image/png": "[encoded data removed]",
      "text/plain": [
       "<Figure size 432x288 with 1 Axes>"
      ]
     },
     "metadata": {
      "needs_background": "light"
     },
     "output_type": "display_data"
    },
    {
     "name": "stdout",
     "output_type": "stream",
     "text": [
      "YearsWithCurrManager\n"
     ]
    },
    {
     "data": {
      "image/png": "[encoded data removed]",
      "text/plain": [
       "<Figure size 432x288 with 1 Axes>"
      ]
     },
     "metadata": {
      "needs_background": "light"
     },
     "output_type": "display_data"
    }
   ],
   "source": [
    "for col in df.columns:\n",
    "    dtype = df[col].dtypes\n",
    "    if dtype != 'object':\n",
    "        print(col)\n",
    "        plt.boxplot(df[col])\n",
    "        plt.show()"
   ]
  },
  {
   "cell_type": "markdown",
   "metadata": {
    "colab_type": "text",
    "id": "0__DZqN6na7d"
   },
   "source": [
    "From graph boxplot above, we can conclude that : <br>\n",
    "1. Features those have many outliers within are :<br>\n",
    "   - YearsWithCurrManager\n",
    "   - YearsSinceLastPromotion\n",
    "   - YearsAtCompany\n",
    "   - TrainingTimesLastYear\n",
    "   - TotalWorkingYears"
   ]
  },
  {
   "cell_type": "markdown",
   "metadata": {
    "colab_type": "text",
    "id": "KcgZqdmbna7e"
   },
   "source": [
    "## Step 4) Data Visualization"
   ]
  },
  {
   "cell_type": "code",
   "execution_count": 42,
   "metadata": {
    "colab": {},
    "colab_type": "code",
    "id": "TSbmZ9QQna7e"
   },
   "outputs": [],
   "source": [
    "def bar_chart(feature):\n",
    "    stay = df[df['Attrition']==0][feature].value_counts()\n",
    "    leave = df[df['Attrition']==1][feature].value_counts()\n",
    "    plotting = pd.DataFrame([stay,leave])\n",
    "    plotting.index = ['Stay','Leave']\n",
    "    plotting.plot(kind='bar',stacked=True, figsize=(10,5), title= feature)"
   ]
  },
  {
   "cell_type": "code",
   "execution_count": 43,
   "metadata": {
    "colab": {},
    "colab_type": "code",
    "id": "WGZaW4vCna7j",
    "outputId": "7f2dd1a3-1f4e-4437-d213-30efe3a3876f"
   },
   "outputs": [
    {
     "data": {
      "image/png": "[encoded data removed]",
      "text/plain": [
       "<Figure size 720x360 with 1 Axes>"
      ]
     },
     "metadata": {
      "needs_background": "light"
     },
     "output_type": "display_data"
    }
   ],
   "source": [
    "bar_chart('Department')"
   ]
  },
  {
   "cell_type": "code",
   "execution_count": 44,
   "metadata": {
    "colab": {},
    "colab_type": "code",
    "id": "T67jUIjqna7q",
    "outputId": "e224c7b7-1335-4d34-d38b-d99267c5b92b"
   },
   "outputs": [
    {
     "data": {
      "image/png": "[encoded data removed]",
      "text/plain": [
       "<Figure size 720x360 with 1 Axes>"
      ]
     },
     "metadata": {
      "needs_background": "light"
     },
     "output_type": "display_data"
    }
   ],
   "source": [
    "bar_chart('Education')"
   ]
  },
  {
   "cell_type": "code",
   "execution_count": 45,
   "metadata": {
    "colab": {},
    "colab_type": "code",
    "id": "RiuIfbABna7v",
    "outputId": "74f76096-ccb7-4d2e-8dcb-2398bcfbcfce"
   },
   "outputs": [
    {
     "data": {
      "image/png": "[encoded data removed]",
      "text/plain": [
       "<Figure size 720x360 with 1 Axes>"
      ]
     },
     "metadata": {
      "needs_background": "light"
     },
     "output_type": "display_data"
    }
   ],
   "source": [
    "bar_chart('Gender')"
   ]
  },
  {
   "cell_type": "code",
   "execution_count": 46,
   "metadata": {
    "colab": {},
    "colab_type": "code",
    "id": "bBNTXtWkna70",
    "outputId": "0da9adfc-78e7-4114-c023-28469fef1263"
   },
   "outputs": [
    {
     "data": {
      "image/png": "[encoded data removed]",
      "text/plain": [
       "<Figure size 720x360 with 1 Axes>"
      ]
     },
     "metadata": {
      "needs_background": "light"
     },
     "output_type": "display_data"
    }
   ],
   "source": [
    "bar_chart('BusinessTravel')"
   ]
  },
  {
   "cell_type": "code",
   "execution_count": 47,
   "metadata": {
    "colab": {},
    "colab_type": "code",
    "id": "-VrxR-kona77",
    "outputId": "65c7d4c3-28be-4475-d671-904871af2c92"
   },
   "outputs": [
    {
     "data": {
      "image/png": "[encoded data removed]",
      "text/plain": [
       "<Figure size 720x360 with 1 Axes>"
      ]
     },
     "metadata": {
      "needs_background": "light"
     },
     "output_type": "display_data"
    }
   ],
   "source": [
    "bar_chart('JobRole')"
   ]
  },
  {
   "cell_type": "markdown",
   "metadata": {
    "colab_type": "text",
    "id": "sq75YJTbna8A"
   },
   "source": [
    "### if we want to focus on leaving employee visualization"
   ]
  },
  {
   "cell_type": "code",
   "execution_count": 48,
   "metadata": {
    "colab": {},
    "colab_type": "code",
    "id": "cXqKBkw2na8D"
   },
   "outputs": [],
   "source": [
    "# Make a function to help plotting\n",
    "def attrition_plot(column):\n",
    "    dtype = dfattrition[column].dtypes\n",
    "    plt.figure()\n",
    "    if dtype == 'object':\n",
    "        x = dfattrition[column].value_counts().index\n",
    "        y = dfattrition[column].value_counts()\n",
    "        sns.barplot(x,  y).set_xticklabels(x, rotation=90)\n",
    "        plt.show()\n",
    "    else:\n",
    "        sns.distplot(dfattrition[column], bins =10)\n",
    "        plt.show()"
   ]
  },
  {
   "cell_type": "markdown",
   "metadata": {
    "colab_type": "text",
    "id": "Sls93IY0na8G"
   },
   "source": [
    "#### We can check for item in each features that has highest value of the leaving employee"
   ]
  },
  {
   "cell_type": "code",
   "execution_count": 49,
   "metadata": {
    "colab": {},
    "colab_type": "code",
    "id": "P8b1khIbna8H",
    "outputId": "4d218d59-cea6-454c-d6b7-fbb3eedd45b8",
    "scrolled": false
   },
   "outputs": [
    {
     "name": "stdout",
     "output_type": "stream",
     "text": [
      "Age , mode : 31 with 54 Values\n"
     ]
    },
    {
     "data": {
      "image/png": "[encoded data removed]",
      "text/plain": [
       "<Figure size 432x288 with 1 Axes>"
      ]
     },
     "metadata": {
      "needs_background": "light"
     },
     "output_type": "display_data"
    },
    {
     "name": "stdout",
     "output_type": "stream",
     "text": [
      "BusinessTravel , mode : Travel_Rarely with 465 Values\n"
     ]
    },
    {
     "data": {
      "image/png": "[encoded data removed]",
      "text/plain": [
       "<Figure size 432x288 with 1 Axes>"
      ]
     },
     "metadata": {
      "needs_background": "light"
     },
     "output_type": "display_data"
    },
    {
     "name": "stdout",
     "output_type": "stream",
     "text": [
      "Department , mode : Research & Development with 449 Values\n"
     ]
    },
    {
     "data": {
      "image/png": "[encoded data removed]",
      "text/plain": [
       "<Figure size 432x288 with 1 Axes>"
      ]
     },
     "metadata": {
      "needs_background": "light"
     },
     "output_type": "display_data"
    },
    {
     "name": "stdout",
     "output_type": "stream",
     "text": [
      "DistanceFromHome , mode : 2 with 114 Values\n"
     ]
    },
    {
     "data": {
      "image/png": "[encoded data removed]",
      "text/plain": [
       "<Figure size 432x288 with 1 Axes>"
      ]
     },
     "metadata": {
      "needs_background": "light"
     },
     "output_type": "display_data"
    },
    {
     "name": "stdout",
     "output_type": "stream",
     "text": [
      "Education , mode : 3 with 263 Values\n"
     ]
    },
    {
     "data": {
      "image/png": "[encoded data removed]",
      "text/plain": [
       "<Figure size 432x288 with 1 Axes>"
      ]
     },
     "metadata": {
      "needs_background": "light"
     },
     "output_type": "display_data"
    },
    {
     "name": "stdout",
     "output_type": "stream",
     "text": [
      "EducationField , mode : Life Sciences with 301 Values\n"
     ]
    },
    {
     "data": {
      "image/png": "[encoded data removed]",
      "text/plain": [
       "<Figure size 432x288 with 1 Axes>"
      ]
     },
     "metadata": {
      "needs_background": "light"
     },
     "output_type": "display_data"
    },
    {
     "name": "stdout",
     "output_type": "stream",
     "text": [
      "Gender , mode : 1 with 437 Values\n"
     ]
    },
    {
     "data": {
      "image/png": "[encoded data removed]",
      "text/plain": [
       "<Figure size 432x288 with 1 Axes>"
      ]
     },
     "metadata": {
      "needs_background": "light"
     },
     "output_type": "display_data"
    },
    {
     "name": "stdout",
     "output_type": "stream",
     "text": [
      "JobLevel , mode : 2 with 283 Values\n"
     ]
    },
    {
     "data": {
      "image/png": "[encoded data removed]",
      "text/plain": [
       "<Figure size 432x288 with 1 Axes>"
      ]
     },
     "metadata": {
      "needs_background": "light"
     },
     "output_type": "display_data"
    },
    {
     "name": "stdout",
     "output_type": "stream",
     "text": [
      "JobRole , mode : Sales Executive with 165 Values\n"
     ]
    },
    {
     "data": {
      "image/png": "[encoded data removed]",
      "text/plain": [
       "<Figure size 432x288 with 1 Axes>"
      ]
     },
     "metadata": {
      "needs_background": "light"
     },
     "output_type": "display_data"
    },
    {
     "name": "stdout",
     "output_type": "stream",
     "text": [
      "MaritalStatus , mode : Single with 356 Values\n"
     ]
    },
    {
     "data": {
      "image/png": "[encoded data removed]",
      "text/plain": [
       "<Figure size 432x288 with 1 Axes>"
      ]
     },
     "metadata": {
      "needs_background": "light"
     },
     "output_type": "display_data"
    },
    {
     "name": "stdout",
     "output_type": "stream",
     "text": [
      "MonthlyIncome , mode : 25590 with 6 Values\n"
     ]
    },
    {
     "data": {
      "image/png": "[encoded data removed]",
      "text/plain": [
       "<Figure size 432x288 with 1 Axes>"
      ]
     },
     "metadata": {
      "needs_background": "light"
     },
     "output_type": "display_data"
    },
    {
     "name": "stdout",
     "output_type": "stream",
     "text": [
      "NumCompaniesWorked , mode : 1.0 with 292 Values\n"
     ]
    },
    {
     "data": {
      "image/png": "[encoded data removed]",
      "text/plain": [
       "<Figure size 432x288 with 1 Axes>"
      ]
     },
     "metadata": {
      "needs_background": "light"
     },
     "output_type": "display_data"
    },
    {
     "name": "stdout",
     "output_type": "stream",
     "text": [
      "PercentSalaryHike , mode : 13 with 100 Values\n"
     ]
    },
    {
     "data": {
      "image/png": "[encoded data removed]",
      "text/plain": [
       "<Figure size 432x288 with 1 Axes>"
      ]
     },
     "metadata": {
      "needs_background": "light"
     },
     "output_type": "display_data"
    },
    {
     "name": "stdout",
     "output_type": "stream",
     "text": [
      "StockOptionLevel , mode : 0 with 316 Values\n"
     ]
    },
    {
     "data": {
      "image/png": "[encoded data removed]",
      "text/plain": [
       "<Figure size 432x288 with 1 Axes>"
      ]
     },
     "metadata": {
      "needs_background": "light"
     },
     "output_type": "display_data"
    },
    {
     "name": "stdout",
     "output_type": "stream",
     "text": [
      "TotalWorkingYears , mode : 1.0 with 119 Values\n"
     ]
    },
    {
     "data": {
      "image/png": "[encoded data removed]",
      "text/plain": [
       "<Figure size 432x288 with 1 Axes>"
      ]
     },
     "metadata": {
      "needs_background": "light"
     },
     "output_type": "display_data"
    },
    {
     "name": "stdout",
     "output_type": "stream",
     "text": [
      "TrainingTimesLastYear , mode : 2 with 278 Values\n"
     ]
    },
    {
     "data": {
      "image/png": "[encoded data removed]",
      "text/plain": [
       "<Figure size 432x288 with 1 Axes>"
      ]
     },
     "metadata": {
      "needs_background": "light"
     },
     "output_type": "display_data"
    },
    {
     "name": "stdout",
     "output_type": "stream",
     "text": [
      "YearsAtCompany , mode : 1 with 176 Values\n"
     ]
    },
    {
     "data": {
      "image/png": "[encoded data removed]",
      "text/plain": [
       "<Figure size 432x288 with 1 Axes>"
      ]
     },
     "metadata": {
      "needs_background": "light"
     },
     "output_type": "display_data"
    },
    {
     "name": "stdout",
     "output_type": "stream",
     "text": [
      "YearsSinceLastPromotion , mode : 0 with 325 Values\n"
     ]
    },
    {
     "data": {
      "image/png": "[encoded data removed]",
      "text/plain": [
       "<Figure size 432x288 with 1 Axes>"
      ]
     },
     "metadata": {
      "needs_background": "light"
     },
     "output_type": "display_data"
    },
    {
     "name": "stdout",
     "output_type": "stream",
     "text": [
      "YearsWithCurrManager , mode : 0 with 252 Values\n"
     ]
    },
    {
     "data": {
      "image/png": "[encoded data removed]",
      "text/plain": [
       "<Figure size 432x288 with 1 Axes>"
      ]
     },
     "metadata": {
      "needs_background": "light"
     },
     "output_type": "display_data"
    }
   ],
   "source": [
    "for i in dfattrition.columns:\n",
    "    if i != 'Attrition':\n",
    "        qty = dfattrition[i].value_counts().values[0]\n",
    "        item = dfattrition[i].value_counts().index[0]\n",
    "        print(i, f', mode : {item} with {qty} Values')\n",
    "        attrition_plot(i)"
   ]
  },
  {
   "cell_type": "markdown",
   "metadata": {
    "colab_type": "text",
    "id": "xcZsmLBSna8L"
   },
   "source": [
    "## Step 5) Check Correlation between Attrition and other features"
   ]
  },
  {
   "cell_type": "code",
   "execution_count": 50,
   "metadata": {
    "colab": {},
    "colab_type": "code",
    "id": "X5OGCquSna8M",
    "outputId": "f86abb0b-964f-4e0f-fcd9-589f4f4d7221"
   },
   "outputs": [
    {
     "data": {
      "text/html": [
       "<div>\n",
       "<style scoped>\n",
       "    .dataframe tbody tr th:only-of-type {\n",
       "        vertical-align: middle;\n",
       "    }\n",
       "\n",
       "    .dataframe tbody tr th {\n",
       "        vertical-align: top;\n",
       "    }\n",
       "\n",
       "    .dataframe thead th {\n",
       "        text-align: right;\n",
       "    }\n",
       "</style>\n",
       "<table border=\"1\" class=\"dataframe\">\n",
       "  <thead>\n",
       "    <tr style=\"text-align: right;\">\n",
       "      <th></th>\n",
       "      <th>Attrition</th>\n",
       "    </tr>\n",
       "  </thead>\n",
       "  <tbody>\n",
       "    <tr>\n",
       "      <th>NumCompaniesWorked</th>\n",
       "      <td>0.042831</td>\n",
       "    </tr>\n",
       "    <tr>\n",
       "      <th>PercentSalaryHike</th>\n",
       "      <td>0.033153</td>\n",
       "    </tr>\n",
       "    <tr>\n",
       "      <th>Gender</th>\n",
       "      <td>0.018396</td>\n",
       "    </tr>\n",
       "    <tr>\n",
       "      <th>StockOptionLevel</th>\n",
       "      <td>-0.008164</td>\n",
       "    </tr>\n",
       "    <tr>\n",
       "      <th>DistanceFromHome</th>\n",
       "      <td>-0.009449</td>\n",
       "    </tr>\n",
       "    <tr>\n",
       "      <th>JobLevel</th>\n",
       "      <td>-0.012382</td>\n",
       "    </tr>\n",
       "    <tr>\n",
       "      <th>Education</th>\n",
       "      <td>-0.017106</td>\n",
       "    </tr>\n",
       "    <tr>\n",
       "      <th>MonthlyIncome</th>\n",
       "      <td>-0.030160</td>\n",
       "    </tr>\n",
       "    <tr>\n",
       "      <th>YearsSinceLastPromotion</th>\n",
       "      <td>-0.031423</td>\n",
       "    </tr>\n",
       "    <tr>\n",
       "      <th>TrainingTimesLastYear</th>\n",
       "      <td>-0.047586</td>\n",
       "    </tr>\n",
       "    <tr>\n",
       "      <th>YearsAtCompany</th>\n",
       "      <td>-0.133003</td>\n",
       "    </tr>\n",
       "    <tr>\n",
       "      <th>YearsWithCurrManager</th>\n",
       "      <td>-0.154692</td>\n",
       "    </tr>\n",
       "    <tr>\n",
       "      <th>Age</th>\n",
       "      <td>-0.158399</td>\n",
       "    </tr>\n",
       "    <tr>\n",
       "      <th>TotalWorkingYears</th>\n",
       "      <td>-0.169670</td>\n",
       "    </tr>\n",
       "  </tbody>\n",
       "</table>\n",
       "</div>"
      ],
      "text/plain": [
       "                         Attrition\n",
       "NumCompaniesWorked        0.042831\n",
       "PercentSalaryHike         0.033153\n",
       "Gender                    0.018396\n",
       "StockOptionLevel         -0.008164\n",
       "DistanceFromHome         -0.009449\n",
       "JobLevel                 -0.012382\n",
       "Education                -0.017106\n",
       "MonthlyIncome            -0.030160\n",
       "YearsSinceLastPromotion  -0.031423\n",
       "TrainingTimesLastYear    -0.047586\n",
       "YearsAtCompany           -0.133003\n",
       "YearsWithCurrManager     -0.154692\n",
       "Age                      -0.158399\n",
       "TotalWorkingYears        -0.169670"
      ]
     },
     "execution_count": 50,
     "metadata": {},
     "output_type": "execute_result"
    }
   ],
   "source": [
    "correlation = df.corr().Attrition.sort_values( ascending= False)\n",
    "correlation2 = pd.DataFrame(correlation)\n",
    "correlation2.drop(['Attrition'], axis= 0, inplace= True)\n",
    "\n",
    "correlation2"
   ]
  },
  {
   "cell_type": "code",
   "execution_count": 51,
   "metadata": {
    "colab": {},
    "colab_type": "code",
    "id": "GkZaPjs0na8Q",
    "outputId": "1f9fd39b-46a1-4c76-d03c-60838c17b63d"
   },
   "outputs": [
    {
     "data": {
      "image/png": "[encoded data removed]",
      "text/plain": [
       "<Figure size 432x288 with 2 Axes>"
      ]
     },
     "metadata": {
      "needs_background": "light"
     },
     "output_type": "display_data"
    }
   ],
   "source": [
    "sns.heatmap(correlation2, vmax=correlation2.max(), vmin=correlation2.min())\n",
    "plt.show()"
   ]
  },
  {
   "cell_type": "markdown",
   "metadata": {
    "colab_type": "text",
    "id": "td7xe647na8V"
   },
   "source": [
    "## In the correlation table : <br>\n",
    "We can conclude that <br>\n",
    "NumCompaniesWorked, PercentSalaryHike , Gender\t\n",
    "have <b>Possitive Correlation with Attrition</b>\n",
    "and <b>other variables have Negative Correlation</b>"
   ]
  },
  {
   "cell_type": "markdown",
   "metadata": {
    "colab_type": "text",
    "id": "wgPjJh6ana8W"
   },
   "source": [
    "## Step 6) Non Parametric Tests"
   ]
  },
  {
   "cell_type": "code",
   "execution_count": 52,
   "metadata": {
    "colab": {},
    "colab_type": "code",
    "id": "P1Xj0xVsna8X",
    "outputId": "9cca0238-e09a-4b69-c083-a73e60a7ca5b"
   },
   "outputs": [
    {
     "name": "stdout",
     "output_type": "stream",
     "text": [
      "352.3011830696416 1.20869585240706e-50\n",
      "We reject the Ho\n"
     ]
    }
   ],
   "source": [
    "from scipy.stats import chi2_contingency\n",
    "\n",
    "'H0 - There is no dependency between Attrition and Age (REJECTED)'\n",
    "'H1 - There is dependency between Attrition and Age'\n",
    "\n",
    "chitable = pd.crosstab(df.Attrition, df.Age)\n",
    "\n",
    "stats1, p1, dof1, expected1 = chi2_contingency(chitable)\n",
    "print(stats1, p1)\n",
    "\n",
    "\n",
    "if p1 < 0.05 :\n",
    "    print(\"We reject the Ho\")\n",
    "else:\n",
    "    print(\"We Accept the Ho\")\n",
    "# in the result below we can say that we reject the Ho due to p < 0.05"
   ]
  },
  {
   "cell_type": "code",
   "execution_count": 53,
   "metadata": {
    "colab": {},
    "colab_type": "code",
    "id": "8vsrllK2na8e",
    "outputId": "ff5994dc-c9ac-4a87-a4c0-d786d067e570"
   },
   "outputs": [
    {
     "name": "stdout",
     "output_type": "stream",
     "text": [
      "1.3825823839528295 0.23966176275638887\n",
      "We Accept the Ho\n"
     ]
    }
   ],
   "source": [
    "'H0 - There is no dependency between Attrition and Gender (ACCEPTED)'\n",
    "'H1 - There is dependency between Attrition and Gender'\n",
    "\n",
    "chitable2 = pd.crosstab(df.Attrition, df.Gender)\n",
    "\n",
    "stats2, p2, dof2, expected2 = chi2_contingency(chitable2)\n",
    "print(stats2, p2)\n",
    "\n",
    "if p2 < 0.05 :\n",
    "    print(\"We reject the Ho\")\n",
    "else:\n",
    "    print(\"We Accept the Ho\")\n",
    "# in the result below we can say that we accept the Ho due to p > 0.05"
   ]
  },
  {
   "cell_type": "code",
   "execution_count": 54,
   "metadata": {
    "colab": {},
    "colab_type": "code",
    "id": "2bVstgGEna8k",
    "outputId": "45e85dfe-8754-4ac1-eac2-70ae6331f1d0"
   },
   "outputs": [
    {
     "name": "stdout",
     "output_type": "stream",
     "text": [
      "7.036480574687178 0.13397290697032432\n",
      "We Accept the Ho\n"
     ]
    }
   ],
   "source": [
    "'H0 - There is no dependency between Attrition and JobLevel  (ACCEPTED)'\n",
    "'H1 - There is dependency between Attrition and JobLevel'\n",
    "\n",
    "chitable3 = pd.crosstab(df.Attrition, df.JobLevel)\n",
    "\n",
    "stats3, p3, dof3, expected3 = chi2_contingency(chitable3)\n",
    "print(stats3, p3)\n",
    "\n",
    "if p3 < 0.05 :\n",
    "    print(\"We reject the Ho\")\n",
    "else:\n",
    "    print(\"We Accept the Ho\")\n",
    "# in the result below we can say that we accept the Ho due to p > 0.05"
   ]
  },
  {
   "cell_type": "code",
   "execution_count": 55,
   "metadata": {
    "colab": {},
    "colab_type": "code",
    "id": "4R1F4rPNna8q",
    "outputId": "78495525-ca16-4ed4-8c6c-d016c8174835"
   },
   "outputs": [
    {
     "name": "stdout",
     "output_type": "stream",
     "text": [
      "6.2735361781270615 0.17963050984273224\n",
      "We Accept the Ho\n"
     ]
    }
   ],
   "source": [
    "'H0 - There is no dependency between Attrition and Education (ACCEPTED)'\n",
    "'H1 - There is dependency between Attrition and Education'\n",
    "\n",
    "chitable4 = pd.crosstab(df.Attrition, df.Education)\n",
    "\n",
    "stats4, p4, dof4, expected4 = chi2_contingency(chitable4)\n",
    "print(stats4, p4)\n",
    "\n",
    "if p4 < 0.05 :\n",
    "    print(\"We reject the Ho\")\n",
    "else:\n",
    "    print(\"We Accept the Ho\")\n",
    "# in the result below we can say that we accept the Ho due to p > 0.05"
   ]
  },
  {
   "cell_type": "code",
   "execution_count": 56,
   "metadata": {
    "colab": {},
    "colab_type": "code",
    "id": "z9Zjc5bjna8u",
    "outputId": "19e808f7-9e3f-40c8-e612-af050d93d7b2"
   },
   "outputs": [
    {
     "name": "stdout",
     "output_type": "stream",
     "text": [
      "75.85546138415296 1.0708854426925246e-12\n",
      "We reject the Ho\n"
     ]
    }
   ],
   "source": [
    "'H0 - There is no dependency between Attrition and NumCompaniesWorked (REJECTED)'\n",
    "'H1 - There is dependency between Attrition and NumCompaniesWorked'\n",
    "\n",
    "chitable5 = pd.crosstab(df.Attrition, df.NumCompaniesWorked)\n",
    "\n",
    "stats5, p5, dof5, expected5 = chi2_contingency(chitable5)\n",
    "print(stats5, p5)\n",
    "\n",
    "if p5 < 0.05 :\n",
    "    print(\"We reject the Ho\")\n",
    "else:\n",
    "    print(\"We Accept the Ho\")\n",
    "# in the result below we can say that we reject the Ho due to p < 0.05"
   ]
  },
  {
   "cell_type": "code",
   "execution_count": 57,
   "metadata": {
    "colab": {},
    "colab_type": "code",
    "id": "1J3PGr30na8x",
    "outputId": "4e5f457f-8d2d-4af7-ed2d-bedd833dab8a"
   },
   "outputs": [
    {
     "name": "stdout",
     "output_type": "stream",
     "text": [
      "360.55237130857233 1.1111356799847907e-53\n",
      "We reject the Ho\n"
     ]
    }
   ],
   "source": [
    "'H0 - There is no dependency between Attrition and TotalWorkingYears (REJECTED)'\n",
    "'H1 - There is dependency between Attrition and TotalWorkingYears'\n",
    "\n",
    "chitable6 = pd.crosstab(df.Attrition, df.TotalWorkingYears)\n",
    "\n",
    "stats6, p6, dof6, expected6 = chi2_contingency(chitable6)\n",
    "print(stats6, p6)\n",
    "\n",
    "if p6 < 0.05 :\n",
    "    print(\"We reject the Ho\")\n",
    "else:\n",
    "    print(\"We Accept the Ho\")\n",
    "# in the result below we can say that we reject the Ho due to p < 0.05"
   ]
  },
  {
   "cell_type": "code",
   "execution_count": 58,
   "metadata": {
    "colab": {},
    "colab_type": "code",
    "id": "OEPvrioena81",
    "outputId": "c8d03598-11e9-4e3b-c280-ca860773967a"
   },
   "outputs": [
    {
     "name": "stdout",
     "output_type": "stream",
     "text": [
      "19.132665173042696 0.15994173676121282\n",
      "We Accept the Ho\n"
     ]
    }
   ],
   "source": [
    "'H0 - There is no dependency between Attrition and PercentSalaryHike (ACCEPTED)'\n",
    "'H1 - There is dependency between Attrition and PercentSalaryHike'\n",
    "\n",
    "chitable7 = pd.crosstab(df.Attrition, df.PercentSalaryHike)\n",
    "\n",
    "stats7, p7, dof7, expected7 = chi2_contingency(chitable7)\n",
    "print(stats7, p7)\n",
    "\n",
    "if p7 < 0.05 :\n",
    "    print(\"We reject the Ho\")\n",
    "else:\n",
    "    print(\"We Accept the Ho\")\n",
    "# in the result below we can say that we acceppt the Ho due to p > 0.05"
   ]
  },
  {
   "cell_type": "code",
   "execution_count": 59,
   "metadata": {
    "colab": {},
    "colab_type": "code",
    "id": "gKuO3j7Dna86",
    "outputId": "e5816c96-bba3-4f54-85af-11d11df292ca"
   },
   "outputs": [
    {
     "name": "stdout",
     "output_type": "stream",
     "text": [
      "284.1905063085053 2.434867576146702e-40\n",
      "We reject the Ho\n"
     ]
    }
   ],
   "source": [
    "'H0 - There is no dependency between Attrition and YearsAtCompany (REJECTED)'\n",
    "'H1 - There is dependency between Attrition and YearsAtCompany'\n",
    "\n",
    "chitable = pd.crosstab(df.Attrition, df.YearsAtCompany)\n",
    "\n",
    "stats, p, dof, expected = chi2_contingency(chitable)\n",
    "print(stats, p)\n",
    "\n",
    "if p < 0.05 :\n",
    "    print(\"We reject the Ho\")\n",
    "else:\n",
    "    print(\"We Accept the Ho\")\n",
    "# in the result below we can say that we Reject the Ho due to p < 0.05"
   ]
  },
  {
   "cell_type": "code",
   "execution_count": 60,
   "metadata": {
    "colab": {},
    "colab_type": "code",
    "id": "vcygY9mona9B",
    "outputId": "a4650e55-95f8-490a-92e4-0290ae503ccb"
   },
   "outputs": [
    {
     "name": "stdout",
     "output_type": "stream",
     "text": [
      "64.22958433145763 4.66086831785978e-08\n",
      "We reject the Ho\n"
     ]
    }
   ],
   "source": [
    "'H0 - There is no dependency between Attrition and YearsSinceLastPromotion (REJECTED)'\n",
    "'H1 - There is dependency between Attrition and YearsSinceLastPromotion'\n",
    "\n",
    "chitable = pd.crosstab(df.Attrition, df.YearsSinceLastPromotion)\n",
    "\n",
    "stats, p, dof, expected = chi2_contingency(chitable)\n",
    "print(stats, p)\n",
    "\n",
    "if p < 0.05 :\n",
    "    print(\"We reject the Ho\")\n",
    "else:\n",
    "    print(\"We Accept the Ho\")\n",
    "# in the result below we can say that we reject the Ho due to p < 0.05"
   ]
  },
  {
   "cell_type": "code",
   "execution_count": 61,
   "metadata": {
    "colab": {},
    "colab_type": "code",
    "id": "QXSPgLwJna9E",
    "outputId": "8c1e17c5-c0f4-4f70-f471-4d7b06655c38"
   },
   "outputs": [
    {
     "name": "stdout",
     "output_type": "stream",
     "text": [
      "103.09280258300478 1.5872525392897128e-10\n",
      "We reject the Ho\n"
     ]
    }
   ],
   "source": [
    "'H0 - There is no dependency between Attrition and DistanceFromHome (REJECTED)'\n",
    "'H1 - There is dependency between Attrition and DistanceFromHome'\n",
    "\n",
    "chitable = pd.crosstab(df.Attrition, df.DistanceFromHome)\n",
    "\n",
    "stats, p, dof, expected = chi2_contingency(chitable)\n",
    "print(stats, p)\n",
    "\n",
    "if p < 0.05 :\n",
    "    print(\"We reject the Ho\")\n",
    "else:\n",
    "    print(\"We Accept the Ho\")\n",
    "# in the result below we can say that we Reject the Ho due to p < 0.05"
   ]
  },
  {
   "cell_type": "markdown",
   "metadata": {
    "colab_type": "text",
    "id": "cLrRC94Yna9L"
   },
   "source": [
    "# Conclusion"
   ]
  },
  {
   "cell_type": "markdown",
   "metadata": {
    "colab_type": "text",
    "id": "5DskgDIbna9M"
   },
   "source": [
    "We assume that factors those has dependency with attrition are:<br>\n",
    "    1. Business Travel, we can see, many leaving employee are rarely traveling \n",
    "    2. Monthly income, those have income < $25000 are leaving the company\n",
    "    3. YearSinceLastPromotion, we can see that we reject the null hypotesis, it means there is dependency between attrition and  this feature\n",
    "    4. Distancefromhome, from the hypotesis test, we rejected the Null Hypothesis, it means there is a dependency between attrition and this feature and also from the visualization. Employee that has short distance likely leaves the company."
   ]
  }
 ],
 "metadata": {
  "colab": {
   "name": "Day_07.ipynb",
   "provenance": []
  },
  "kernelspec": {
   "display_name": "Python 3",
   "language": "python",
   "name": "python3"
  },
  "language_info": {
   "codemirror_mode": {
    "name": "ipython",
    "version": 3
   },
   "file_extension": ".py",
   "mimetype": "text/x-python",
   "name": "python",
   "nbconvert_exporter": "python",
   "pygments_lexer": "ipython3",
   "version": "3.7.6"
  }
 },
 "nbformat": 4,
 "nbformat_minor": 1
}
