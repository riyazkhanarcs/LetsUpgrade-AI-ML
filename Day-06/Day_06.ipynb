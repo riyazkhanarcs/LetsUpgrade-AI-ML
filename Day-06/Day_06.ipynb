{
  "nbformat": 4,
  "nbformat_minor": 0,
  "metadata": {
    "colab": {
      "name": "Day-06.ipynb",
      "provenance": []
    },
    "kernelspec": {
      "name": "python3",
      "display_name": "Python 3"
    }
  },
  "cells": [
    {
      "cell_type": "code",
      "metadata": {
        "id": "o5XwPT8ICZ9h",
        "colab_type": "code",
        "colab": {
          "base_uri": "https://localhost:8080/",
          "height": 68
        },
        "outputId": "76f751e0-ba6d-4027-d453-b3b4c70a67f5"
      },
      "source": [
        "\"\"\"Question 1: Assuming that we have some email addresses in the \"username@companyname.com\" format, please write program\n",
        "to print the company name of a given email address. Both user names and company names are composed of letters\n",
        "only.\"\"\"\n",
        "\n",
        "emailId = input(\"Enter the email address : \")\n",
        "\n",
        "def getCompanyName(email):\n",
        "    return email.split('@')[-1].split('.')[0]\n",
        "\n",
        "print(\"Input : \",emailId)\n",
        "print(\"Output : \",getCompanyName(emailId))"
      ],
      "execution_count": null,
      "outputs": [
        {
          "output_type": "stream",
          "text": [
            "Enter the email address : riyaz@rkbigdata.com\n",
            "Input :  riyaz@rkbigdata.com\n",
            "Output :  rkbigdata\n"
          ],
          "name": "stdout"
        }
      ]
    },
    {
      "cell_type": "code",
      "metadata": {
        "id": "imtE676jDioZ",
        "colab_type": "code",
        "colab": {
          "base_uri": "https://localhost:8080/",
          "height": 68
        },
        "outputId": "ff83b1cf-9259-49ff-e364-0e6b4adef1da"
      },
      "source": [
        "\"\"\"Question 2: Write a program that accepts a comma-separated sequence of words as input and prints the words in a comma\n",
        "separated sequence after sorting them alphabetically.\"\"\"\n",
        "\n",
        "inputWords=input(\"Enter comma-separated sequence of words : \")\n",
        "outputWords=sorted(inputWords.split(\",\"))\n",
        "print(\"Input : \",inputWords)\n",
        "print(\"Output : \",\",\".join(outputWords))"
      ],
      "execution_count": null,
      "outputs": [
        {
          "output_type": "stream",
          "text": [
            "Enter comma-separated sequence of words : without,python,world,hello\n",
            "Input :  without,python,world,hello\n",
            "Output :  hello,python,without,world\n"
          ],
          "name": "stdout"
        }
      ]
    },
    {
      "cell_type": "code",
      "metadata": {
        "id": "unPBTVW3aQ5f",
        "colab_type": "code",
        "colab": {}
      },
      "source": [
        "\"\"\"Question 3: Create your own Jupyter Notebook for Sets. Reference link: https://www.w3schools.com/python/python_sets.asp\"\"\""
      ],
      "execution_count": null,
      "outputs": []
    },
    {
      "cell_type": "markdown",
      "metadata": {
        "id": "4dARAXe2a7eu",
        "colab_type": "text"
      },
      "source": [
        "#Python Sets\n",
        "Set is an unordered and unindexed collection of items in Python. Unordered means when we display the elements of a set, it will come out in a random order. Unindexed means, we cannot access the elements of a set using the indexes like we can do in list and tuples.\n",
        "\n",
        "The elements of a set are defined inside curly brackets and are separated by commas. For example\n",
        "\n",
        "myset = {1, 2, 3, 4, \"hello\"}\n",
        "\n",
        "\n"
      ]
    },
    {
      "cell_type": "code",
      "metadata": {
        "id": "NEqJd4-Uby58",
        "colab_type": "code",
        "colab": {
          "base_uri": "https://localhost:8080/",
          "height": 34
        },
        "outputId": "fc006d14-cc14-49ab-9524-f0cade2f7de1"
      },
      "source": [
        "# Set Example\n",
        "myset = {\"hi\", 2, \"Python\", \"AI/ML\",\"Hello World\"}\n",
        "print(myset)"
      ],
      "execution_count": null,
      "outputs": [
        {
          "output_type": "stream",
          "text": [
            "{2, 'hi', 'AI/ML', 'Python', 'Hello World'}\n"
          ],
          "name": "stdout"
        }
      ]
    },
    {
      "cell_type": "markdown",
      "metadata": {
        "id": "50khsbRScmoC",
        "colab_type": "text"
      },
      "source": [
        "### 1. Checking whether an item is in the set\n",
        "We can check whether an item exists in Set or not using “in” operator as shown in the following example. This returns the boolean value true or false. If the item is in the given set then it returns true, else it returns false."
      ]
    },
    {
      "cell_type": "code",
      "metadata": {
        "id": "mn5zTFPCc_GI",
        "colab_type": "code",
        "colab": {
          "base_uri": "https://localhost:8080/",
          "height": 68
        },
        "outputId": "da3b3de2-31bd-4157-8c5c-b493e3db9690"
      },
      "source": [
        "# Set Example\n",
        "myset = {\"hi\", 2, \"Python\", \"AI/ML\",\"Hello World\"}\n",
        "\n",
        "# checking whether 2 is in myset\n",
        "print(2 in myset)\n",
        "\n",
        "# checking whether \"Hello World\" is in myset\n",
        "print(\"Hello World\" in myset)\n",
        "\n",
        "# checking whether \"DeepLearning\" is in myset\n",
        "print(\"DeepLearning\" in myset)"
      ],
      "execution_count": null,
      "outputs": [
        {
          "output_type": "stream",
          "text": [
            "True\n",
            "True\n",
            "False\n"
          ],
          "name": "stdout"
        }
      ]
    },
    {
      "cell_type": "markdown",
      "metadata": {
        "id": "Z_p4el9Jd6QA",
        "colab_type": "text"
      },
      "source": [
        "### 2. Loop through the elements of a Set\n",
        "\n",
        "We can loop through the elements of a set in Python as shown in the following elements. As you can see in the output that the elements will appear in random order each time you run the code.\n"
      ]
    },
    {
      "cell_type": "code",
      "metadata": {
        "id": "BiKhzPIFeP4A",
        "colab_type": "code",
        "colab": {
          "base_uri": "https://localhost:8080/",
          "height": 102
        },
        "outputId": "c56c37e5-3853-4e26-c481-8842a37c0e92"
      },
      "source": [
        "# Set Example\n",
        "myset = {\"hi\", 2, \"Python\", \"AI/ML\",\"Hello World\"}\n",
        "\n",
        "# loop through the elements of myset\n",
        "for a in myset:\n",
        "    print(a)"
      ],
      "execution_count": null,
      "outputs": [
        {
          "output_type": "stream",
          "text": [
            "2\n",
            "hi\n",
            "AI/ML\n",
            "Python\n",
            "Hello World\n"
          ],
          "name": "stdout"
        }
      ]
    },
    {
      "cell_type": "markdown",
      "metadata": {
        "id": "RSYHYRyRfCLS",
        "colab_type": "text"
      },
      "source": [
        "###3. Add item to a Set\n",
        "\n",
        "*   To add one item to a set use the add() method.\n",
        "*   To add more than one item to a set use the update() method."
      ]
    },
    {
      "cell_type": "code",
      "metadata": {
        "id": "EX_BCqOLflk-",
        "colab_type": "code",
        "colab": {
          "base_uri": "https://localhost:8080/",
          "height": 68
        },
        "outputId": "dbee1ca4-018d-4e1b-a60f-123509a07fb3"
      },
      "source": [
        "# Set Example\n",
        "myset = {\"hi\", 2, \"Python\", \"AI/ML\",\"Hello World\"}\n",
        "print(\"Original Set:\", myset)\n",
        "\n",
        "# adding an item\n",
        "myset.add(100)\n",
        "print(\"Set after adding 100:\", myset)\n",
        "\n",
        "# adding more than one item\n",
        "myset.update([\"Deep Learning\", \"200\", \"NLP\"])\n",
        "print(\"Set after adding more than one item:\", myset)"
      ],
      "execution_count": null,
      "outputs": [
        {
          "output_type": "stream",
          "text": [
            "Original Set: {2, 'hi', 'AI/ML', 'Python', 'Hello World'}\n",
            "Set after adding 100: {2, 'hi', 'AI/ML', 100, 'Python', 'Hello World'}\n",
            "Set after adding more than one item: {2, 'hi', 'AI/ML', 100, 'NLP', 'Python', 'Hello World', '200', 'Deep Learning'}\n"
          ],
          "name": "stdout"
        }
      ]
    },
    {
      "cell_type": "markdown",
      "metadata": {
        "id": "TCDHXM_9hnQg",
        "colab_type": "text"
      },
      "source": [
        "###4. Remove an item in a Set\n",
        "\n",
        "*   To remove an item in a set, use the **remove()**, or the **discard()** method.\n",
        "*   You can also use the **pop()**, method to remove an item, but this method will remove the last item. Remember that sets are unordered, so you will not know what item that gets removed.\n",
        "*   The **clear()** method empties the set\n",
        "*   The **del** keyword will delete the set completely. After deleting if you try to print the Set then this will raise an error because the set no longer exists.\n",
        "\n",
        "\n",
        "\n",
        "\n",
        "\n",
        "\n",
        "\n",
        "\n"
      ]
    },
    {
      "cell_type": "code",
      "metadata": {
        "id": "a0o3fKSVh6N7",
        "colab_type": "code",
        "colab": {
          "base_uri": "https://localhost:8080/",
          "height": 102
        },
        "outputId": "a7f494be-e8ec-4e78-b0c7-27d02f4d562d"
      },
      "source": [
        "myset = {\"hi\", 2, \"Python\", \"AI/ML\",\"Hello World\"}\n",
        "\n",
        "# Remove \"AI/ML\" by using the remove() method:\n",
        "myset.remove(\"AI/ML\")\n",
        "print(myset)\n",
        "\n",
        "# Remove \"AI/ML\" by using the discard() method:\n",
        "myset.discard(\"AI/ML\")\n",
        "print(myset)\n",
        "\n",
        "# Remove the last item by using the pop() method\n",
        "itemremoved = myset.pop()\n",
        "print(\"Removed item: \",itemremoved)\n",
        "print(\"Set after removing: \",myset)\n",
        "\n",
        "# The clear() method empties the set\n",
        "myset.clear()\n",
        "print(myset)\n",
        "\n",
        "# The del keyword will delete the set completely\n",
        "del myset\n",
        "#print(myset) # this will raise an error because the set no longer exists"
      ],
      "execution_count": null,
      "outputs": [
        {
          "output_type": "stream",
          "text": [
            "{2, 'hi', 'Python', 'Hello World'}\n",
            "{2, 'hi', 'Python', 'Hello World'}\n",
            "Removed item:  2\n",
            "Set after removing:  {'hi', 'Python', 'Hello World'}\n",
            "set()\n"
          ],
          "name": "stdout"
        }
      ]
    },
    {
      "cell_type": "markdown",
      "metadata": {
        "id": "bEJCrIK3mWxi",
        "colab_type": "text"
      },
      "source": [
        "###5. Join Two Sets\n",
        "\n",
        "There are several ways to join two or more sets in Python.\n",
        "\n",
        "You can use the union() method that returns a new set containing all items from both sets, or the update() method that inserts all the items from one set into another:\n"
      ]
    },
    {
      "cell_type": "code",
      "metadata": {
        "id": "6zUoAq1pmhVh",
        "colab_type": "code",
        "colab": {
          "base_uri": "https://localhost:8080/",
          "height": 51
        },
        "outputId": "d8ec1565-5e2f-4104-c6b5-3db0a994eaca"
      },
      "source": [
        "# The union() method returns a new set with all items from both sets:\n",
        "\n",
        "set1 = {\"a\", \"b\" , \"c\"}\n",
        "set2 = {1, 2, 3}\n",
        "\n",
        "set3 = set1.union(set2)\n",
        "print(set3)\n",
        "\n",
        "# The update() method inserts the items in set2 into set1:\n",
        "\n",
        "set1 = {\"a\", \"b\" , \"c\"}\n",
        "set2 = {1, 2, 3, 4}\n",
        "\n",
        "set1.update(set2)\n",
        "print(set1)"
      ],
      "execution_count": null,
      "outputs": [
        {
          "output_type": "stream",
          "text": [
            "{'c', 1, 2, 3, 'b', 'a'}\n",
            "{'c', 1, 2, 3, 'b', 4, 'a'}\n"
          ],
          "name": "stdout"
        }
      ]
    },
    {
      "cell_type": "markdown",
      "metadata": {
        "id": "YBqSCF6XnHeH",
        "colab_type": "text"
      },
      "source": [
        "###6. The set() Constructor\n",
        "It is also possible to use the set() constructor to make a set.\n",
        "\n"
      ]
    },
    {
      "cell_type": "code",
      "metadata": {
        "id": "3CALrZ8PnhNh",
        "colab_type": "code",
        "colab": {
          "base_uri": "https://localhost:8080/",
          "height": 34
        },
        "outputId": "2f6080d1-b1bb-443b-c675-d243fe8bf72f"
      },
      "source": [
        "myset = set((\"a\", \"b\", \"c\")) # note the double round-brackets\n",
        "print(myset)"
      ],
      "execution_count": null,
      "outputs": [
        {
          "output_type": "stream",
          "text": [
            "{'c', 'b', 'a'}\n"
          ],
          "name": "stdout"
        }
      ]
    },
    {
      "cell_type": "code",
      "metadata": {
        "id": "VqRD2r3cdd71",
        "colab_type": "code",
        "colab": {
          "base_uri": "https://localhost:8080/",
          "height": 51
        },
        "outputId": "3770b4e4-80ee-4eb4-dedf-9939f7c55377"
      },
      "source": [
        "\"\"\" Question 4 - Given a list of n-1 numbers ranging from 1 to n, your task is to find the missing number. There are no duplicates.\n",
        "Input Format:\n",
        "The first line contains n-1 numbers with each number separated by a space.\n",
        "Output Format:\n",
        "Print the missing number\n",
        "Example:\n",
        "Input:1 2 4 6 3 7 8\n",
        "Output:5 \"\"\"\n",
        "\n",
        "inputSeq = sorted(input(\"Enter space-separated numbers : \").split(\" \"))\n",
        "newList = []\n",
        "\n",
        "counter = int(inputSeq[0])\n",
        "for x in inputSeq:\n",
        "  if counter == int(x):\n",
        "    counter += 1\n",
        "  else:  \n",
        "    print(counter, \" is missing\")\n",
        "    break"
      ],
      "execution_count": null,
      "outputs": [
        {
          "output_type": "stream",
          "text": [
            "Enter space-separated numbers : 2 4 3 1 6\n",
            "5  is missing\n"
          ],
          "name": "stdout"
        }
      ]
    },
    {
      "cell_type": "code",
      "metadata": {
        "id": "_IgRGGXCslTh",
        "colab_type": "code",
        "colab": {
          "base_uri": "https://localhost:8080/",
          "height": 51
        },
        "outputId": "64e0f384-45b9-4162-91e9-1210393f9132"
      },
      "source": [
        "\"\"\" Question 5 - With a given list L, write a program to print this list L after removing all duplicate values with original order reserved.\n",
        "Example:\n",
        "If the input list is\n",
        "12 24 35 24 88 120 155 88 120 155\n",
        "Then the output should be\n",
        "12 24 35 88 120 155 \"\"\"\n",
        "\n",
        "inputSeq = input(\"Enter space-separated numbers\").split(\" \")\n",
        "newList = []\n",
        "for x in inputSeq:\n",
        "  if x not in newList:\n",
        "    newList.append(x)\n",
        "    print(x, end=\" \")"
      ],
      "execution_count": null,
      "outputs": [
        {
          "output_type": "stream",
          "text": [
            "Enter space-separated numbers12 24 35 24 88 120 155 88 120 155\n",
            "12 24 35 88 120 155 "
          ],
          "name": "stdout"
        }
      ]
    }
  ]
}